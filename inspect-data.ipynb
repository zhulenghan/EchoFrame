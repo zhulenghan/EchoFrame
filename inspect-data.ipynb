{
 "cells": [
  {
   "cell_type": "code",
   "execution_count": 3,
   "metadata": {},
   "outputs": [],
   "source": [
    "import pandas as pd\n",
    "import os"
   ]
  },
  {
   "cell_type": "code",
   "execution_count": 4,
   "metadata": {},
   "outputs": [],
   "source": [
    "\n",
    "data_path = \"/mnt/new_volume/vgg_sound/scratch/shared/beegfs/hchen/train_data/VGGSound_final/video\"\n",
    "train_csv = \"/mnt/new_volume/vgg_sound/train.csv\"\n",
    "test_csv = \"/mnt/new_volume/vgg_sound/test.csv\""
   ]
  },
  {
   "cell_type": "code",
   "execution_count": 5,
   "metadata": {},
   "outputs": [],
   "source": [
    "#list all the files in the directory\n",
    "\n",
    "files = os.listdir(data_path)\n",
    "\n",
    "s_files = set(files)"
   ]
  },
  {
   "cell_type": "code",
   "execution_count": 6,
   "metadata": {},
   "outputs": [
    {
     "name": "stdout",
     "output_type": "stream",
     "text": [
      "199176\n"
     ]
    }
   ],
   "source": [
    "print(len(s_files))"
   ]
  },
  {
   "cell_type": "code",
   "execution_count": 7,
   "metadata": {},
   "outputs": [
    {
     "data": {
      "text/plain": [
       "15209"
      ]
     },
     "execution_count": 7,
     "metadata": {},
     "output_type": "execute_result"
    }
   ],
   "source": [
    "len(os.listdir(\"/mnt/new_volume2/vgg_sound_emb/test\"))"
   ]
  },
  {
   "cell_type": "code",
   "execution_count": 9,
   "metadata": {},
   "outputs": [
    {
     "data": {
      "text/plain": [
       "197834"
      ]
     },
     "execution_count": 9,
     "metadata": {},
     "output_type": "execute_result"
    }
   ],
   "source": [
    "len(os.listdir(\"/mnt/new_volume2/vgg_sound_emb/train\")) + len(os.listdir(\"/mnt/new_volume2/vgg_sound_emb/test\"))"
   ]
  },
  {
   "cell_type": "code",
   "execution_count": 25,
   "metadata": {},
   "outputs": [],
   "source": [
    "# read the csv file with col name being [\"video_id\", \"label\"]\n",
    "train_df = pd.read_csv(train_csv, names=[\"video_id\", \"label\"])"
   ]
  },
  {
   "cell_type": "code",
   "execution_count": 26,
   "metadata": {},
   "outputs": [
    {
     "data": {
      "text/html": [
       "<div>\n",
       "<style scoped>\n",
       "    .dataframe tbody tr th:only-of-type {\n",
       "        vertical-align: middle;\n",
       "    }\n",
       "\n",
       "    .dataframe tbody tr th {\n",
       "        vertical-align: top;\n",
       "    }\n",
       "\n",
       "    .dataframe thead th {\n",
       "        text-align: right;\n",
       "    }\n",
       "</style>\n",
       "<table border=\"1\" class=\"dataframe\">\n",
       "  <thead>\n",
       "    <tr style=\"text-align: right;\">\n",
       "      <th></th>\n",
       "      <th>video_id</th>\n",
       "      <th>label</th>\n",
       "    </tr>\n",
       "  </thead>\n",
       "  <tbody>\n",
       "    <tr>\n",
       "      <th>0</th>\n",
       "      <td>OxPnZzn1_L8_000883.mp4</td>\n",
       "      <td>scuba diving</td>\n",
       "    </tr>\n",
       "    <tr>\n",
       "      <th>1</th>\n",
       "      <td>snh7E7llb48_000070.mp4</td>\n",
       "      <td>dog bow-wow</td>\n",
       "    </tr>\n",
       "    <tr>\n",
       "      <th>2</th>\n",
       "      <td>eNb_niqtGeU_000177.mp4</td>\n",
       "      <td>yodelling</td>\n",
       "    </tr>\n",
       "    <tr>\n",
       "      <th>3</th>\n",
       "      <td>xXaVc4YqBNI_000018.mp4</td>\n",
       "      <td>playing bongo</td>\n",
       "    </tr>\n",
       "    <tr>\n",
       "      <th>4</th>\n",
       "      <td>qTRtT9yDl3s_000319.mp4</td>\n",
       "      <td>playing double bass</td>\n",
       "    </tr>\n",
       "    <tr>\n",
       "      <th>...</th>\n",
       "      <td>...</td>\n",
       "      <td>...</td>\n",
       "    </tr>\n",
       "    <tr>\n",
       "      <th>183725</th>\n",
       "      <td>4b8jRhb_B64_000074.mp4</td>\n",
       "      <td>people battle cry</td>\n",
       "    </tr>\n",
       "    <tr>\n",
       "      <th>183726</th>\n",
       "      <td>uaU-_TooopI_000105.mp4</td>\n",
       "      <td>playing tabla</td>\n",
       "    </tr>\n",
       "    <tr>\n",
       "      <th>183727</th>\n",
       "      <td>5E5DO4CPoNk_000030.mp4</td>\n",
       "      <td>pig oinking</td>\n",
       "    </tr>\n",
       "    <tr>\n",
       "      <th>183728</th>\n",
       "      <td>9fhhMaXTraI_000044.mp4</td>\n",
       "      <td>fire crackling</td>\n",
       "    </tr>\n",
       "    <tr>\n",
       "      <th>183729</th>\n",
       "      <td>G_JwMzRLRNo_000252.mp4</td>\n",
       "      <td>cricket chirping</td>\n",
       "    </tr>\n",
       "  </tbody>\n",
       "</table>\n",
       "<p>183730 rows × 2 columns</p>\n",
       "</div>"
      ],
      "text/plain": [
       "                      video_id                label\n",
       "0       OxPnZzn1_L8_000883.mp4         scuba diving\n",
       "1       snh7E7llb48_000070.mp4          dog bow-wow\n",
       "2       eNb_niqtGeU_000177.mp4            yodelling\n",
       "3       xXaVc4YqBNI_000018.mp4        playing bongo\n",
       "4       qTRtT9yDl3s_000319.mp4  playing double bass\n",
       "...                        ...                  ...\n",
       "183725  4b8jRhb_B64_000074.mp4    people battle cry\n",
       "183726  uaU-_TooopI_000105.mp4        playing tabla\n",
       "183727  5E5DO4CPoNk_000030.mp4          pig oinking\n",
       "183728  9fhhMaXTraI_000044.mp4       fire crackling\n",
       "183729  G_JwMzRLRNo_000252.mp4     cricket chirping\n",
       "\n",
       "[183730 rows x 2 columns]"
      ]
     },
     "execution_count": 26,
     "metadata": {},
     "output_type": "execute_result"
    }
   ],
   "source": [
    "train_df"
   ]
  },
  {
   "cell_type": "code",
   "execution_count": null,
   "metadata": {},
   "outputs": [],
   "source": [
    "p = train_df['video_id'].apply(lambda x: x in s_files)\n",
    "(p==False).sum()"
   ]
  },
  {
   "cell_type": "code",
   "execution_count": 34,
   "metadata": {},
   "outputs": [
    {
     "data": {
      "text/plain": [
       "0"
      ]
     },
     "execution_count": 34,
     "metadata": {},
     "output_type": "execute_result"
    }
   ],
   "source": [
    "(p==False).sum()"
   ]
  },
  {
   "cell_type": "code",
   "execution_count": 14,
   "metadata": {},
   "outputs": [],
   "source": [
    "\n",
    "test_df = pd.read_csv(test_csv)"
   ]
  },
  {
   "cell_type": "code",
   "execution_count": 12,
   "metadata": {},
   "outputs": [
    {
     "data": {
      "text/html": [
       "<div>\n",
       "<style scoped>\n",
       "    .dataframe tbody tr th:only-of-type {\n",
       "        vertical-align: middle;\n",
       "    }\n",
       "\n",
       "    .dataframe tbody tr th {\n",
       "        vertical-align: top;\n",
       "    }\n",
       "\n",
       "    .dataframe thead th {\n",
       "        text-align: right;\n",
       "    }\n",
       "</style>\n",
       "<table border=\"1\" class=\"dataframe\">\n",
       "  <thead>\n",
       "    <tr style=\"text-align: right;\">\n",
       "      <th></th>\n",
       "      <th>glLQrEijrKg_000300.mp4</th>\n",
       "      <th>playing hammond organ</th>\n",
       "    </tr>\n",
       "  </thead>\n",
       "  <tbody>\n",
       "    <tr>\n",
       "      <th>0</th>\n",
       "      <td>LDoXsip0BEQ_000177.mp4</td>\n",
       "      <td>parrot talking</td>\n",
       "    </tr>\n",
       "    <tr>\n",
       "      <th>1</th>\n",
       "      <td>6jiO0tPLK7U_000090.mp4</td>\n",
       "      <td>basketball bounce</td>\n",
       "    </tr>\n",
       "    <tr>\n",
       "      <th>2</th>\n",
       "      <td>cRlp5v9BHeE_000011.mp4</td>\n",
       "      <td>car passing by</td>\n",
       "    </tr>\n",
       "    <tr>\n",
       "      <th>3</th>\n",
       "      <td>WgZ8KAnnTb8_000030.mp4</td>\n",
       "      <td>rapping</td>\n",
       "    </tr>\n",
       "    <tr>\n",
       "      <th>4</th>\n",
       "      <td>ATnl-fq5nAk_000030.mp4</td>\n",
       "      <td>playing acoustic guitar</td>\n",
       "    </tr>\n",
       "    <tr>\n",
       "      <th>...</th>\n",
       "      <td>...</td>\n",
       "      <td>...</td>\n",
       "    </tr>\n",
       "    <tr>\n",
       "      <th>15440</th>\n",
       "      <td>ZPeG32vKQ3w_000030.mp4</td>\n",
       "      <td>typing on typewriter</td>\n",
       "    </tr>\n",
       "    <tr>\n",
       "      <th>15441</th>\n",
       "      <td>yyqydavJ4YQ_000201.mp4</td>\n",
       "      <td>airplane flyby</td>\n",
       "    </tr>\n",
       "    <tr>\n",
       "      <th>15442</th>\n",
       "      <td>EJwOhdjhxXY_000012.mp4</td>\n",
       "      <td>francolin calling</td>\n",
       "    </tr>\n",
       "    <tr>\n",
       "      <th>15443</th>\n",
       "      <td>oYEzy8gH6q8_000030.mp4</td>\n",
       "      <td>tapping guitar</td>\n",
       "    </tr>\n",
       "    <tr>\n",
       "      <th>15444</th>\n",
       "      <td>E75i9rHDHaE_000000.mp4</td>\n",
       "      <td>strike lighter</td>\n",
       "    </tr>\n",
       "  </tbody>\n",
       "</table>\n",
       "<p>15445 rows × 2 columns</p>\n",
       "</div>"
      ],
      "text/plain": [
       "       glLQrEijrKg_000300.mp4    playing hammond organ\n",
       "0      LDoXsip0BEQ_000177.mp4           parrot talking\n",
       "1      6jiO0tPLK7U_000090.mp4        basketball bounce\n",
       "2      cRlp5v9BHeE_000011.mp4           car passing by\n",
       "3      WgZ8KAnnTb8_000030.mp4                  rapping\n",
       "4      ATnl-fq5nAk_000030.mp4  playing acoustic guitar\n",
       "...                       ...                      ...\n",
       "15440  ZPeG32vKQ3w_000030.mp4     typing on typewriter\n",
       "15441  yyqydavJ4YQ_000201.mp4           airplane flyby\n",
       "15442  EJwOhdjhxXY_000012.mp4        francolin calling\n",
       "15443  oYEzy8gH6q8_000030.mp4           tapping guitar\n",
       "15444  E75i9rHDHaE_000000.mp4           strike lighter\n",
       "\n",
       "[15445 rows x 2 columns]"
      ]
     },
     "execution_count": 12,
     "metadata": {},
     "output_type": "execute_result"
    }
   ],
   "source": [
    "pd.read_csv(test_csv)"
   ]
  },
  {
   "cell_type": "code",
   "execution_count": 12,
   "metadata": {},
   "outputs": [],
   "source": [
    "import torch "
   ]
  },
  {
   "cell_type": "code",
   "execution_count": 16,
   "metadata": {},
   "outputs": [],
   "source": [
    "data = torch.load(\"/mnt/new_volume2/vgg_sound_emb/train/Q8K3shbvV9g_000032.pth\")"
   ]
  },
  {
   "cell_type": "code",
   "execution_count": 17,
   "metadata": {},
   "outputs": [
    {
     "data": {
      "text/plain": [
       "dict_keys(['id', 'caption', 'clip_features', 'clap_features'])"
      ]
     },
     "execution_count": 17,
     "metadata": {},
     "output_type": "execute_result"
    }
   ],
   "source": [
    "data.keys()"
   ]
  },
  {
   "cell_type": "code",
   "execution_count": 18,
   "metadata": {},
   "outputs": [
    {
     "data": {
      "text/plain": [
       "torch.Size([64, 512])"
      ]
     },
     "execution_count": 18,
     "metadata": {},
     "output_type": "execute_result"
    }
   ],
   "source": [
    "data['clip_features'].shape"
   ]
  },
  {
   "cell_type": "code",
   "execution_count": 19,
   "metadata": {},
   "outputs": [
    {
     "data": {
      "text/plain": [
       "torch.Size([1, 512])"
      ]
     },
     "execution_count": 19,
     "metadata": {},
     "output_type": "execute_result"
    }
   ],
   "source": [
    "data['clap_features'].shape"
   ]
  },
  {
   "cell_type": "code",
   "execution_count": 20,
   "metadata": {},
   "outputs": [
    {
     "data": {
      "text/plain": [
       "'Q8K3shbvV9g_000032.mp4'"
      ]
     },
     "execution_count": 20,
     "metadata": {},
     "output_type": "execute_result"
    }
   ],
   "source": [
    "data['id']"
   ]
  },
  {
   "cell_type": "code",
   "execution_count": 21,
   "metadata": {},
   "outputs": [
    {
     "data": {
      "text/plain": [
       "'playing glockenspiel'"
      ]
     },
     "execution_count": 21,
     "metadata": {},
     "output_type": "execute_result"
    }
   ],
   "source": [
    "data['caption']"
   ]
  },
  {
   "cell_type": "code",
   "execution_count": null,
   "metadata": {},
   "outputs": [],
   "source": []
  }
 ],
 "metadata": {
  "kernelspec": {
   "display_name": "base",
   "language": "python",
   "name": "python3"
  },
  "language_info": {
   "codemirror_mode": {
    "name": "ipython",
    "version": 3
   },
   "file_extension": ".py",
   "mimetype": "text/x-python",
   "name": "python",
   "nbconvert_exporter": "python",
   "pygments_lexer": "ipython3",
   "version": "3.12.9"
  }
 },
 "nbformat": 4,
 "nbformat_minor": 2
}
