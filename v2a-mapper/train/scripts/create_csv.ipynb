{
 "cells": [
  {
   "cell_type": "code",
   "execution_count": null,
   "id": "eb42b786",
   "metadata": {},
   "outputs": [],
   "source": [
    "# use base env\n",
    "import pandas as pd\n",
    "video_path =\"/home/ubuntu/project/v2a-mapper/train/test_inf/test_ag/videos_withsound/\"\n",
    "import os\n",
    "video_files = os.listdir(\"/home/ubuntu/project/v2a-mapper/train/test_inf/test_ag/videos_withsound/\")\n",
    "output_path = \"output.csv\"\n",
    "\n",
    "import csv\n",
    "\n",
    "\n",
    "# 写入 CSV\n",
    "with open(output_path, mode=\"w\", newline=\"\", encoding=\"utf-8\") as f:\n",
    "    writer = csv.writer(f)\n",
    "    # 如果你想要一行里分别放 string1 和 string2：\n",
    "    # writer.writerow([string1, string2])\n",
    "    for video_file in video_files:\n",
    "        # 这里是你要写入的字符串\n",
    "        string1 = video_file\n",
    "        string2 = \"-\"\n",
    "        # 写入一行\n",
    "        writer.writerow([string1, string2])\n",
    "    # 如果你想要两行，第一行是 string1，第二行是 string2，可以写两次：\n",
    "    # writer.writerow([string1])\n",
    "    # writer.writerow([string2])\n",
    "\n",
    "print(f\"已写入 {output_path}\")\n"
   ]
  },
  {
   "cell_type": "code",
   "execution_count": null,
   "id": "d6569c31",
   "metadata": {},
   "outputs": [],
   "source": []
  },
  {
   "cell_type": "code",
   "execution_count": null,
   "id": "f79a39e7",
   "metadata": {},
   "outputs": [],
   "source": []
  }
 ],
 "metadata": {
  "kernelspec": {
   "display_name": "base",
   "language": "python",
   "name": "python3"
  },
  "language_info": {
   "codemirror_mode": {
    "name": "ipython",
    "version": 3
   },
   "file_extension": ".py",
   "mimetype": "text/x-python",
   "name": "python",
   "nbconvert_exporter": "python",
   "pygments_lexer": "ipython3",
   "version": "3.12.9"
  }
 },
 "nbformat": 4,
 "nbformat_minor": 5
}
