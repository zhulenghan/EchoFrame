{
 "cells": [
  {
   "cell_type": "code",
   "execution_count": 14,
   "id": "2f639e58",
   "metadata": {},
   "outputs": [],
   "source": [
    "from moviepy import VideoFileClip, TextClip, CompositeVideoClip,AudioFileClip\n",
    "import shutil\n",
    "from pathlib import Path\n",
    "from tqdm import tqdm, trange\n",
    "import os"
   ]
  },
  {
   "cell_type": "code",
   "execution_count": 15,
   "id": "cc725ab2",
   "metadata": {},
   "outputs": [],
   "source": [
    "def add_fake_sound(target_video_path, audio_path, output_path):\n",
    "    \n",
    "    video_path = target_video_path\n",
    "    video_ids = video_path.split(\"/\")[-1].split(\".\")[0]\n",
    "\n",
    "    output_path = f\"{output_path}{video_ids}.mp4\"\n",
    "\n",
    "    # 加载视频和音频\n",
    "    video = VideoFileClip(video_path)\n",
    "    new_audio = AudioFileClip(audio_path)\n",
    "\n",
    "    # # 将视频的音轨替换为新的音频\n",
    "    video.audio = new_audio\n",
    "\n",
    "    video.write_videofile(\n",
    "        output_path,\n",
    "        codec=\"libx264\",\n",
    "        audio_codec=\"aac\",\n",
    "        fps=video.fps\n",
    "    )\n"
   ]
  },
  {
   "cell_type": "code",
   "execution_count": null,
   "id": "25a346ed",
   "metadata": {},
   "outputs": [],
   "source": [
    "video_root = \"/home/ubuntu/project/v2a-mapper/train/test_inf/test_ag/videos_withsound/\"\n",
    "audio_root = \"/home/ubuntu/project/v2a-mapper/train/test_inf/test_ag/test_outputs/\"\n",
    "\n",
    "video_names = sorted(os.listdir(video_root))\n",
    "video_names\n",
    "\n",
    "audio_names = [x[:-4] + \"_gen.wav\" for x in video_names]\n",
    "audio_names\n",
    "\n",
    "for i in trange(len(video_names)):\n",
    "    video_path = os.path.join(video_root, video_names[i])\n",
    "    audio_path = os.path.join(audio_root, audio_names[i])\n",
    "    output_path = \"/home/ubuntu/project/v2a-mapper/train/test_inf/test_ag/merged_video/\"\n",
    "    add_fake_sound(video_path, audio_path, output_path)"
   ]
  },
  {
   "cell_type": "code",
   "execution_count": 13,
   "id": "b4b4e50f",
   "metadata": {},
   "outputs": [],
   "source": [
    "# shutil.make_archive(\"videos\", \"gztar\", root_dir=\"/home/ubuntu/project/v2a-mapper/train/test_inf/test_vgg/out_videos/\")"
   ]
  },
  {
   "cell_type": "code",
   "execution_count": null,
   "id": "8565543d",
   "metadata": {},
   "outputs": [],
   "source": []
  }
 ],
 "metadata": {
  "kernelspec": {
   "display_name": "mp",
   "language": "python",
   "name": "python3"
  },
  "language_info": {
   "codemirror_mode": {
    "name": "ipython",
    "version": 3
   },
   "file_extension": ".py",
   "mimetype": "text/x-python",
   "name": "python",
   "nbconvert_exporter": "python",
   "pygments_lexer": "ipython3",
   "version": "3.11.11"
  }
 },
 "nbformat": 4,
 "nbformat_minor": 5
}
