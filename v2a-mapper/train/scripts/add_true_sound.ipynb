{
 "cells": [
  {
   "cell_type": "code",
   "execution_count": 1,
   "id": "2f639e58",
   "metadata": {},
   "outputs": [],
   "source": [
    "from moviepy import VideoFileClip, TextClip, CompositeVideoClip,AudioFileClip\n",
    "import shutil\n",
    "from pathlib import Path\n",
    "from tqdm import tqdm, trange\n",
    "import os"
   ]
  },
  {
   "cell_type": "code",
   "execution_count": 2,
   "id": "cc725ab2",
   "metadata": {},
   "outputs": [],
   "source": [
    "def add_fake_sound(target_video_path, audio_path, output_path):\n",
    "    \n",
    "    video_path = target_video_path\n",
    "    video_ids = video_path.split(\"/\")[-1].split(\".\")[0]\n",
    "\n",
    "    output_path = f\"{output_path}{video_ids}.mp4\"\n",
    "\n",
    "    # 加载视频和音频\n",
    "    video = VideoFileClip(video_path)\n",
    "    new_audio = AudioFileClip(audio_path)\n",
    "\n",
    "    # # 将视频的音轨替换为新的音频\n",
    "    video.audio = new_audio\n",
    "\n",
    "    video.write_videofile(\n",
    "        output_path,\n",
    "        codec=\"libx264\",\n",
    "        audio_codec=\"aac\",\n",
    "        fps=video.fps\n",
    "    )\n"
   ]
  },
  {
   "cell_type": "code",
   "execution_count": 3,
   "id": "7dafe431",
   "metadata": {},
   "outputs": [
    {
     "name": "stdout",
     "output_type": "stream",
     "text": [
      "{'video_found': True, 'audio_found': True, 'metadata': {'major_brand': 'isom', 'minor_version': '512', 'compatible_brands': 'isomiso2avc1mp41', 'encoder': 'Lavf61.1.100'}, 'inputs': [{'streams': [{'input_number': 0, 'stream_number': 0, 'stream_type': 'video', 'language': None, 'default': True, 'size': [854, 480], 'bitrate': 668, 'fps': 30.0, 'codec_name': 'h264', 'profile': '(High)', 'metadata': {'Metadata': '', 'handler_name': 'VideoHandler', 'vendor_id': '[0][0][0][0]', 'encoder': 'Lavc61.3.100 libx264'}}, {'input_number': 0, 'stream_number': 1, 'stream_type': 'audio', 'language': None, 'default': True, 'fps': 44100, 'bitrate': 127, 'metadata': {'Metadata': '', 'handler_name': 'SoundHandler', 'vendor_id': '[0][0][0][0]'}}], 'input_number': 0}], 'duration': 10.24, 'bitrate': 790, 'start': 0.0, 'default_video_input_number': 0, 'default_video_stream_number': 0, 'video_codec_name': 'h264', 'video_profile': '(High)', 'video_size': [854, 480], 'video_bitrate': 668, 'video_fps': 30.0, 'default_audio_input_number': 0, 'default_audio_stream_number': 1, 'audio_fps': 44100, 'audio_bitrate': 127, 'video_duration': 10.24, 'video_n_frames': 307}\n",
      "/home/ubuntu/miniconda3/envs/mp/lib/python3.11/site-packages/imageio_ffmpeg/binaries/ffmpeg-linux-x86_64-v7.0.2 -i /home/ubuntu/project/v2a-mapper/train/test_inf/test_ag/videos_withsound/piano.mp4 -loglevel error -f image2pipe -vf scale=854:480 -sws_flags bicubic -pix_fmt rgb24 -vcodec rawvideo -\n",
      "MoviePy - Building video /home/ubuntu/project/v2a-mapper/train/test_inf/test_ag/merged_video/piano.mp4.\n",
      "MoviePy - Writing audio in pianoTEMP_MPY_wvf_snd.mp4\n"
     ]
    },
    {
     "name": "stderr",
     "output_type": "stream",
     "text": [
      "                                                                    \r"
     ]
    },
    {
     "name": "stdout",
     "output_type": "stream",
     "text": [
      "MoviePy - Done.\n",
      "MoviePy - Writing video /home/ubuntu/project/v2a-mapper/train/test_inf/test_ag/merged_video/piano.mp4\n",
      "\n"
     ]
    },
    {
     "name": "stderr",
     "output_type": "stream",
     "text": [
      "frame_index:  90%|████████▉ | 276/307 [00:00<00:00, 247.14it/s, now=None]/home/ubuntu/miniconda3/envs/mp/lib/python3.11/site-packages/moviepy/video/io/ffmpeg_reader.py:178: UserWarning: In file /home/ubuntu/project/v2a-mapper/train/test_inf/test_ag/videos_withsound/piano.mp4, 1229760 bytes wanted but 0 bytes read at frame index 300 (out of a total 307 frames), at time 10.00/10.24 sec. Using the last valid frame instead.\n",
      "  warnings.warn(\n",
      "frame_index:  98%|█████████▊| 302/307 [00:01<00:00, 241.01it/s, now=None]/home/ubuntu/miniconda3/envs/mp/lib/python3.11/site-packages/moviepy/video/io/ffmpeg_reader.py:178: UserWarning: In file /home/ubuntu/project/v2a-mapper/train/test_inf/test_ag/videos_withsound/piano.mp4, 1229760 bytes wanted but 0 bytes read at frame index 301 (out of a total 307 frames), at time 10.03/10.24 sec. Using the last valid frame instead.\n",
      "  warnings.warn(\n",
      "/home/ubuntu/miniconda3/envs/mp/lib/python3.11/site-packages/moviepy/video/io/ffmpeg_reader.py:178: UserWarning: In file /home/ubuntu/project/v2a-mapper/train/test_inf/test_ag/videos_withsound/piano.mp4, 1229760 bytes wanted but 0 bytes read at frame index 302 (out of a total 307 frames), at time 10.07/10.24 sec. Using the last valid frame instead.\n",
      "  warnings.warn(\n",
      "/home/ubuntu/miniconda3/envs/mp/lib/python3.11/site-packages/moviepy/video/io/ffmpeg_reader.py:178: UserWarning: In file /home/ubuntu/project/v2a-mapper/train/test_inf/test_ag/videos_withsound/piano.mp4, 1229760 bytes wanted but 0 bytes read at frame index 303 (out of a total 307 frames), at time 10.10/10.24 sec. Using the last valid frame instead.\n",
      "  warnings.warn(\n",
      "/home/ubuntu/miniconda3/envs/mp/lib/python3.11/site-packages/moviepy/video/io/ffmpeg_reader.py:178: UserWarning: In file /home/ubuntu/project/v2a-mapper/train/test_inf/test_ag/videos_withsound/piano.mp4, 1229760 bytes wanted but 0 bytes read at frame index 304 (out of a total 307 frames), at time 10.13/10.24 sec. Using the last valid frame instead.\n",
      "  warnings.warn(\n",
      "/home/ubuntu/miniconda3/envs/mp/lib/python3.11/site-packages/moviepy/video/io/ffmpeg_reader.py:178: UserWarning: In file /home/ubuntu/project/v2a-mapper/train/test_inf/test_ag/videos_withsound/piano.mp4, 1229760 bytes wanted but 0 bytes read at frame index 305 (out of a total 307 frames), at time 10.17/10.24 sec. Using the last valid frame instead.\n",
      "  warnings.warn(\n",
      "/home/ubuntu/miniconda3/envs/mp/lib/python3.11/site-packages/moviepy/video/io/ffmpeg_reader.py:178: UserWarning: In file /home/ubuntu/project/v2a-mapper/train/test_inf/test_ag/videos_withsound/piano.mp4, 1229760 bytes wanted but 0 bytes read at frame index 306 (out of a total 307 frames), at time 10.20/10.24 sec. Using the last valid frame instead.\n",
      "  warnings.warn(\n",
      "                                                                         \r"
     ]
    },
    {
     "name": "stdout",
     "output_type": "stream",
     "text": [
      "MoviePy - Done !\n",
      "MoviePy - video ready /home/ubuntu/project/v2a-mapper/train/test_inf/test_ag/merged_video/piano.mp4\n"
     ]
    }
   ],
   "source": [
    "add_fake_sound(\"/home/ubuntu/project/v2a-mapper/train/test_inf/test_ag/videos_withsound/piano.mp4\",\"/home/ubuntu/project/v2a-mapper/train/test_inf/test_ag/test_outputs/piano_gen.wav\",\n",
    "\"/home/ubuntu/project/v2a-mapper/train/test_inf/test_ag/merged_video/\")"
   ]
  },
  {
   "cell_type": "code",
   "execution_count": 13,
   "id": "b4b4e50f",
   "metadata": {},
   "outputs": [],
   "source": [
    "# shutil.make_archive(\"videos\", \"gztar\", root_dir=\"/home/ubuntu/project/v2a-mapper/train/test_inf/test_vgg/out_videos/\")"
   ]
  },
  {
   "cell_type": "code",
   "execution_count": null,
   "id": "8565543d",
   "metadata": {},
   "outputs": [],
   "source": []
  }
 ],
 "metadata": {
  "kernelspec": {
   "display_name": "mp",
   "language": "python",
   "name": "python3"
  },
  "language_info": {
   "codemirror_mode": {
    "name": "ipython",
    "version": 3
   },
   "file_extension": ".py",
   "mimetype": "text/x-python",
   "name": "python",
   "nbconvert_exporter": "python",
   "pygments_lexer": "ipython3",
   "version": "3.11.11"
  }
 },
 "nbformat": 4,
 "nbformat_minor": 5
}
