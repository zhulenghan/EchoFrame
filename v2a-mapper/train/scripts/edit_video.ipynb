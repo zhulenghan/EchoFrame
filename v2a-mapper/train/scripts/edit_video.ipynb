{
 "cells": [
  {
   "cell_type": "code",
   "execution_count": 7,
   "id": "2f639e58",
   "metadata": {},
   "outputs": [],
   "source": [
    "from moviepy import VideoFileClip, TextClip, CompositeVideoClip,AudioFileClip\n",
    "import shutil\n",
    "from pathlib import Path\n",
    "from tqdm import tqdm, trange\n",
    "import os"
   ]
  },
  {
   "cell_type": "code",
   "execution_count": 2,
   "id": "1013e62e",
   "metadata": {},
   "outputs": [],
   "source": [
    "def copy_file_to_dir(src_file, dest_dir):\n",
    "    \"\"\"\n",
    "    将单个文件复制到目标文件夹中。\n",
    "\n",
    "    Args:\n",
    "        src_file (str or Path): 源文件路径\n",
    "        dest_dir (str or Path): 目标文件夹路径\n",
    "    \"\"\"\n",
    "    src_file = Path(src_file)\n",
    "    dest_dir = Path(dest_dir)\n",
    "    dest_dir.mkdir(parents=True, exist_ok=True)  # 确保目标文件夹存在\n",
    "\n",
    "    dest_file = dest_dir / src_file.name\n",
    "    shutil.copy2(src_file, dest_file)  # copy2 会保留文件元数据（如修改时间）\n",
    "    print(f\"已复制: {src_file} → {dest_file}\")"
   ]
  },
  {
   "cell_type": "code",
   "execution_count": 3,
   "id": "f564772e",
   "metadata": {},
   "outputs": [],
   "source": [
    "video_root_path = \"/mnt/new_volume/vgg_sound/scratch/shared/beegfs/hchen/train_data/VGGSound_final/video/\"\n",
    "audio_root_path = \"/home/ubuntu/project/v2a-mapper/train/test_inf/test_vgg/test_outputs/\""
   ]
  },
  {
   "cell_type": "code",
   "execution_count": null,
   "id": "dc495555",
   "metadata": {},
   "outputs": [],
   "source": [
    "audio_list = sorted(os.listdir(audio_root_path))\n",
    "\n",
    "video_ids = [x[:-4] + \".mp4\" for x in audio_list[::2]]\n",
    "audio_ids = [x for x in audio_list[::2]]\n",
    "audio_gen_ids = [x for x in audio_list[1::2]]\n",
    "\n",
    "assert len(video_ids) == len(audio_ids) == len(audio_gen_ids)\n"
   ]
  },
  {
   "cell_type": "code",
   "execution_count": 6,
   "id": "2573371a",
   "metadata": {},
   "outputs": [
    {
     "name": "stdout",
     "output_type": "stream",
     "text": [
      "{'video_found': True, 'audio_found': True, 'metadata': {'major_brand': 'isom', 'minor_version': '512', 'compatible_brands': 'isomiso2avc1mp41', 'encoder': 'Lavf58.20.100'}, 'inputs': [{'streams': [{'input_number': 0, 'stream_number': 0, 'stream_type': 'video', 'language': None, 'default': True, 'size': [480, 360], 'bitrate': 298, 'fps': 25.0, 'codec_name': 'h264', 'profile': '(Constrained Baseline)', 'metadata': {'Metadata': '', 'handler_name': 'ISO Media file produced by Google Inc. Created on: 02/17/2020.', 'vendor_id': '[0][0][0][0]'}}, {'input_number': 0, 'stream_number': 1, 'stream_type': 'audio', 'language': None, 'default': True, 'fps': 44100, 'bitrate': 96, 'metadata': {'Metadata': '', 'handler_name': 'ISO Media file produced by Google Inc. Created on: 02/17/2020.', 'vendor_id': '[0][0][0][0]'}}], 'input_number': 0}], 'duration': 10.01, 'bitrate': 400, 'start': 0.0, 'default_video_input_number': 0, 'default_video_stream_number': 0, 'video_codec_name': 'h264', 'video_profile': '(Constrained Baseline)', 'video_size': [480, 360], 'video_bitrate': 298, 'video_fps': 25.0, 'default_audio_input_number': 0, 'default_audio_stream_number': 1, 'audio_fps': 44100, 'audio_bitrate': 96, 'video_duration': 10.01, 'video_n_frames': 250}\n",
      "/home/ubuntu/miniconda3/envs/mp/lib/python3.11/site-packages/imageio_ffmpeg/binaries/ffmpeg-linux-x86_64-v7.0.2 -i /mnt/new_volume/vgg_sound/scratch/shared/beegfs/hchen/train_data/VGGSound_final/video/-mxbFl5xy1k_000000.mp4 -loglevel error -f image2pipe -vf scale=480:360 -sws_flags bicubic -pix_fmt rgb24 -vcodec rawvideo -\n",
      "MoviePy - Building video /home/ubuntu/project/v2a-mapper/train/test_inf/test_vgg/out_videos/-mxbFl5xy1k_000000_gen.mp4.\n",
      "MoviePy - Writing audio in -mxbFl5xy1k_000000_genTEMP_MPY_wvf_snd.mp4\n"
     ]
    },
    {
     "name": "stderr",
     "output_type": "stream",
     "text": [
      "                                                                    \r"
     ]
    },
    {
     "name": "stdout",
     "output_type": "stream",
     "text": [
      "MoviePy - Done.\n",
      "MoviePy - Writing video /home/ubuntu/project/v2a-mapper/train/test_inf/test_vgg/out_videos/-mxbFl5xy1k_000000_gen.mp4\n",
      "\n"
     ]
    },
    {
     "name": "stderr",
     "output_type": "stream",
     "text": [
      "                                                                         \r"
     ]
    },
    {
     "name": "stdout",
     "output_type": "stream",
     "text": [
      "MoviePy - Done !\n",
      "MoviePy - video ready /home/ubuntu/project/v2a-mapper/train/test_inf/test_vgg/out_videos/-mxbFl5xy1k_000000_gen.mp4\n",
      "已复制: /mnt/new_volume/vgg_sound/scratch/shared/beegfs/hchen/train_data/VGGSound_final/video/-mxbFl5xy1k_000000.mp4 → /home/ubuntu/project/v2a-mapper/train/test_inf/test_vgg/out_videos/-mxbFl5xy1k_000000.mp4\n",
      "{'video_found': True, 'audio_found': True, 'metadata': {'major_brand': 'isom', 'minor_version': '512', 'compatible_brands': 'isomiso2avc1mp41', 'encoder': 'Lavf56.25.101'}, 'inputs': [{'streams': [{'input_number': 0, 'stream_number': 0, 'stream_type': 'video', 'language': None, 'default': True, 'size': [1280, 720], 'bitrate': 1569, 'fps': 30.0, 'codec_name': 'h264', 'profile': '(High)', 'metadata': {'Metadata': '', 'handler_name': 'VideoHandler', 'vendor_id': '[0][0][0][0]'}}, {'input_number': 0, 'stream_number': 1, 'stream_type': 'audio', 'language': None, 'default': True, 'fps': 44100, 'bitrate': 128, 'metadata': {'Metadata': '', 'handler_name': 'SoundHandler', 'vendor_id': '[0][0][0][0]'}}], 'input_number': 0}], 'duration': 10.0, 'bitrate': 1707, 'start': 0.0, 'default_video_input_number': 0, 'default_video_stream_number': 0, 'video_codec_name': 'h264', 'video_profile': '(High)', 'video_size': [1280, 720], 'video_bitrate': 1569, 'video_fps': 30.0, 'default_audio_input_number': 0, 'default_audio_stream_number': 1, 'audio_fps': 44100, 'audio_bitrate': 128, 'video_duration': 10.0, 'video_n_frames': 300}\n",
      "/home/ubuntu/miniconda3/envs/mp/lib/python3.11/site-packages/imageio_ffmpeg/binaries/ffmpeg-linux-x86_64-v7.0.2 -i /mnt/new_volume/vgg_sound/scratch/shared/beegfs/hchen/train_data/VGGSound_final/video/2CHb_23SriY_000060.mp4 -loglevel error -f image2pipe -vf scale=1280:720 -sws_flags bicubic -pix_fmt rgb24 -vcodec rawvideo -\n",
      "MoviePy - Building video /home/ubuntu/project/v2a-mapper/train/test_inf/test_vgg/out_videos/2CHb_23SriY_000060_gen.mp4.\n",
      "MoviePy - Writing audio in 2CHb_23SriY_000060_genTEMP_MPY_wvf_snd.mp4\n"
     ]
    },
    {
     "name": "stderr",
     "output_type": "stream",
     "text": [
      "                                                                    \r"
     ]
    },
    {
     "name": "stdout",
     "output_type": "stream",
     "text": [
      "MoviePy - Done.\n",
      "MoviePy - Writing video /home/ubuntu/project/v2a-mapper/train/test_inf/test_vgg/out_videos/2CHb_23SriY_000060_gen.mp4\n",
      "\n"
     ]
    },
    {
     "name": "stderr",
     "output_type": "stream",
     "text": [
      "                                                                         \r"
     ]
    },
    {
     "name": "stdout",
     "output_type": "stream",
     "text": [
      "MoviePy - Done !\n",
      "MoviePy - video ready /home/ubuntu/project/v2a-mapper/train/test_inf/test_vgg/out_videos/2CHb_23SriY_000060_gen.mp4\n",
      "已复制: /mnt/new_volume/vgg_sound/scratch/shared/beegfs/hchen/train_data/VGGSound_final/video/2CHb_23SriY_000060.mp4 → /home/ubuntu/project/v2a-mapper/train/test_inf/test_vgg/out_videos/2CHb_23SriY_000060.mp4\n",
      "{'video_found': True, 'audio_found': True, 'metadata': {'major_brand': 'isom', 'minor_version': '512', 'compatible_brands': 'isomiso2avc1mp41', 'encoder': 'Lavf58.20.100'}, 'inputs': [{'streams': [{'input_number': 0, 'stream_number': 0, 'stream_type': 'video', 'language': None, 'default': True, 'size': [960, 720], 'bitrate': 1392, 'fps': 29.97002997002997, 'codec_name': 'h264', 'profile': '(Main)', 'metadata': {'Metadata': '', 'handler_name': 'ISO Media file produced by Google Inc. Created on: 05/10/2019.', 'vendor_id': '[0][0][0][0]'}}, {'input_number': 0, 'stream_number': 1, 'stream_type': 'audio', 'language': 'eng', 'default': True, 'fps': 44100, 'bitrate': 128, 'metadata': {'Metadata': '', 'handler_name': 'ISO Media file produced by Google Inc. Created on: 05/10/2019.', 'vendor_id': '[0][0][0][0]'}}], 'input_number': 0}], 'duration': 10.05, 'bitrate': 2237, 'start': 0.0, 'default_video_input_number': 0, 'default_video_stream_number': 0, 'video_codec_name': 'h264', 'video_profile': '(Main)', 'video_size': [960, 720], 'video_bitrate': 1392, 'video_fps': 29.97002997002997, 'default_audio_input_number': 0, 'default_audio_stream_number': 1, 'audio_fps': 44100, 'audio_bitrate': 128, 'video_duration': 10.05, 'video_n_frames': 301}\n",
      "/home/ubuntu/miniconda3/envs/mp/lib/python3.11/site-packages/imageio_ffmpeg/binaries/ffmpeg-linux-x86_64-v7.0.2 -i /mnt/new_volume/vgg_sound/scratch/shared/beegfs/hchen/train_data/VGGSound_final/video/403ItFKRtqc_000010.mp4 -loglevel error -f image2pipe -vf scale=960:720 -sws_flags bicubic -pix_fmt rgb24 -vcodec rawvideo -\n",
      "MoviePy - Building video /home/ubuntu/project/v2a-mapper/train/test_inf/test_vgg/out_videos/403ItFKRtqc_000010_gen.mp4.\n",
      "MoviePy - Writing audio in 403ItFKRtqc_000010_genTEMP_MPY_wvf_snd.mp4\n"
     ]
    },
    {
     "name": "stderr",
     "output_type": "stream",
     "text": [
      "                                                                    \r"
     ]
    },
    {
     "name": "stdout",
     "output_type": "stream",
     "text": [
      "MoviePy - Done.\n",
      "MoviePy - Writing video /home/ubuntu/project/v2a-mapper/train/test_inf/test_vgg/out_videos/403ItFKRtqc_000010_gen.mp4\n",
      "\n"
     ]
    },
    {
     "name": "stderr",
     "output_type": "stream",
     "text": [
      "                                                                         \r"
     ]
    },
    {
     "name": "stdout",
     "output_type": "stream",
     "text": [
      "MoviePy - Done !\n",
      "MoviePy - video ready /home/ubuntu/project/v2a-mapper/train/test_inf/test_vgg/out_videos/403ItFKRtqc_000010_gen.mp4\n",
      "已复制: /mnt/new_volume/vgg_sound/scratch/shared/beegfs/hchen/train_data/VGGSound_final/video/403ItFKRtqc_000010.mp4 → /home/ubuntu/project/v2a-mapper/train/test_inf/test_vgg/out_videos/403ItFKRtqc_000010.mp4\n",
      "{'video_found': True, 'audio_found': True, 'metadata': {'major_brand': 'isom', 'minor_version': '512', 'compatible_brands': 'isomiso2avc1mp41', 'encoder': 'Lavf56.25.101'}, 'inputs': [{'streams': [{'input_number': 0, 'stream_number': 0, 'stream_type': 'video', 'language': None, 'default': True, 'size': [320, 176], 'bitrate': 212, 'fps': 30.0, 'codec_name': 'h264', 'profile': '(High)', 'metadata': {'Metadata': '', 'handler_name': 'VideoHandler', 'vendor_id': '[0][0][0][0]'}}, {'input_number': 0, 'stream_number': 1, 'stream_type': 'audio', 'language': None, 'default': True, 'fps': 44100, 'bitrate': 123, 'metadata': {'Metadata': '', 'handler_name': 'SoundHandler', 'vendor_id': '[0][0][0][0]'}}], 'input_number': 0}], 'duration': 10.02, 'bitrate': 344, 'start': 0.0, 'default_video_input_number': 0, 'default_video_stream_number': 0, 'video_codec_name': 'h264', 'video_profile': '(High)', 'video_size': [320, 176], 'video_bitrate': 212, 'video_fps': 30.0, 'default_audio_input_number': 0, 'default_audio_stream_number': 1, 'audio_fps': 44100, 'audio_bitrate': 123, 'video_duration': 10.02, 'video_n_frames': 300}\n",
      "/home/ubuntu/miniconda3/envs/mp/lib/python3.11/site-packages/imageio_ffmpeg/binaries/ffmpeg-linux-x86_64-v7.0.2 -i /mnt/new_volume/vgg_sound/scratch/shared/beegfs/hchen/train_data/VGGSound_final/video/4OJXPW1j1ss_000030.mp4 -loglevel error -f image2pipe -vf scale=320:176 -sws_flags bicubic -pix_fmt rgb24 -vcodec rawvideo -\n",
      "MoviePy - Building video /home/ubuntu/project/v2a-mapper/train/test_inf/test_vgg/out_videos/4OJXPW1j1ss_000030_gen.mp4.\n",
      "MoviePy - Writing audio in 4OJXPW1j1ss_000030_genTEMP_MPY_wvf_snd.mp4\n"
     ]
    },
    {
     "name": "stderr",
     "output_type": "stream",
     "text": [
      "                                                                    \r"
     ]
    },
    {
     "name": "stdout",
     "output_type": "stream",
     "text": [
      "MoviePy - Done.\n",
      "MoviePy - Writing video /home/ubuntu/project/v2a-mapper/train/test_inf/test_vgg/out_videos/4OJXPW1j1ss_000030_gen.mp4\n",
      "\n"
     ]
    },
    {
     "name": "stderr",
     "output_type": "stream",
     "text": [
      "                                                                          \r"
     ]
    },
    {
     "name": "stdout",
     "output_type": "stream",
     "text": [
      "MoviePy - Done !\n",
      "MoviePy - video ready /home/ubuntu/project/v2a-mapper/train/test_inf/test_vgg/out_videos/4OJXPW1j1ss_000030_gen.mp4\n",
      "已复制: /mnt/new_volume/vgg_sound/scratch/shared/beegfs/hchen/train_data/VGGSound_final/video/4OJXPW1j1ss_000030.mp4 → /home/ubuntu/project/v2a-mapper/train/test_inf/test_vgg/out_videos/4OJXPW1j1ss_000030.mp4\n",
      "{'video_found': True, 'audio_found': True, 'metadata': {'major_brand': 'isom', 'minor_version': '512', 'compatible_brands': 'isomiso2avc1mp41', 'encoder': 'Lavf58.20.100'}, 'inputs': [{'streams': [{'input_number': 0, 'stream_number': 0, 'stream_type': 'video', 'language': None, 'default': True, 'size': [480, 360], 'bitrate': 262, 'fps': 7.0, 'codec_name': 'h264', 'profile': '(Constrained Baseline)', 'metadata': {'Metadata': '', 'handler_name': 'VideoHandler', 'vendor_id': '[0][0][0][0]'}}, {'input_number': 0, 'stream_number': 1, 'stream_type': 'audio', 'language': None, 'default': True, 'fps': 44100, 'bitrate': 96, 'metadata': {'Metadata': '', 'handler_name': 'IsoMedia File Produced by Google, 5-11-2011', 'vendor_id': '[0][0][0][0]'}}], 'input_number': 0}], 'duration': 10.02, 'bitrate': 397, 'start': 0.0, 'default_video_input_number': 0, 'default_video_stream_number': 0, 'video_codec_name': 'h264', 'video_profile': '(Constrained Baseline)', 'video_size': [480, 360], 'video_bitrate': 262, 'video_fps': 7.0, 'default_audio_input_number': 0, 'default_audio_stream_number': 1, 'audio_fps': 44100, 'audio_bitrate': 96, 'video_duration': 10.02, 'video_n_frames': 70}\n",
      "/home/ubuntu/miniconda3/envs/mp/lib/python3.11/site-packages/imageio_ffmpeg/binaries/ffmpeg-linux-x86_64-v7.0.2 -i /mnt/new_volume/vgg_sound/scratch/shared/beegfs/hchen/train_data/VGGSound_final/video/4R9pCrNGvOg_000036.mp4 -loglevel error -f image2pipe -vf scale=480:360 -sws_flags bicubic -pix_fmt rgb24 -vcodec rawvideo -\n",
      "MoviePy - Building video /home/ubuntu/project/v2a-mapper/train/test_inf/test_vgg/out_videos/4R9pCrNGvOg_000036_gen.mp4.\n",
      "MoviePy - Writing audio in 4R9pCrNGvOg_000036_genTEMP_MPY_wvf_snd.mp4\n"
     ]
    },
    {
     "name": "stderr",
     "output_type": "stream",
     "text": [
      "                                                                    \r"
     ]
    },
    {
     "name": "stdout",
     "output_type": "stream",
     "text": [
      "MoviePy - Done.\n",
      "MoviePy - Writing video /home/ubuntu/project/v2a-mapper/train/test_inf/test_vgg/out_videos/4R9pCrNGvOg_000036_gen.mp4\n",
      "\n"
     ]
    },
    {
     "name": "stderr",
     "output_type": "stream",
     "text": [
      "                                                             \r"
     ]
    },
    {
     "name": "stdout",
     "output_type": "stream",
     "text": [
      "MoviePy - Done !\n",
      "MoviePy - video ready /home/ubuntu/project/v2a-mapper/train/test_inf/test_vgg/out_videos/4R9pCrNGvOg_000036_gen.mp4\n",
      "已复制: /mnt/new_volume/vgg_sound/scratch/shared/beegfs/hchen/train_data/VGGSound_final/video/4R9pCrNGvOg_000036.mp4 → /home/ubuntu/project/v2a-mapper/train/test_inf/test_vgg/out_videos/4R9pCrNGvOg_000036.mp4\n",
      "{'video_found': True, 'audio_found': True, 'metadata': {'major_brand': 'isom', 'minor_version': '512', 'compatible_brands': 'isomiso2avc1mp41', 'encoder': 'Lavf58.20.100'}, 'inputs': [{'streams': [{'input_number': 0, 'stream_number': 0, 'stream_type': 'video', 'language': None, 'default': True, 'size': [640, 360], 'bitrate': 313, 'fps': 29.97002997002997, 'codec_name': 'h264', 'profile': '(Constrained Baseline)', 'metadata': {'Metadata': '', 'handler_name': 'ISO Media file produced by Google Inc. Created on: 11/17/2019.', 'vendor_id': '[0][0][0][0]'}}, {'input_number': 0, 'stream_number': 1, 'stream_type': 'audio', 'language': None, 'default': True, 'fps': 44100, 'bitrate': 96, 'metadata': {'Metadata': '', 'handler_name': 'ISO Media file produced by Google Inc. Created on: 11/17/2019.', 'vendor_id': '[0][0][0][0]'}}], 'input_number': 0}], 'duration': 10.03, 'bitrate': 479, 'start': 0.0, 'default_video_input_number': 0, 'default_video_stream_number': 0, 'video_codec_name': 'h264', 'video_profile': '(Constrained Baseline)', 'video_size': [640, 360], 'video_bitrate': 313, 'video_fps': 29.97002997002997, 'default_audio_input_number': 0, 'default_audio_stream_number': 1, 'audio_fps': 44100, 'audio_bitrate': 96, 'video_duration': 10.03, 'video_n_frames': 300}\n",
      "/home/ubuntu/miniconda3/envs/mp/lib/python3.11/site-packages/imageio_ffmpeg/binaries/ffmpeg-linux-x86_64-v7.0.2 -i /mnt/new_volume/vgg_sound/scratch/shared/beegfs/hchen/train_data/VGGSound_final/video/BUhhn2e1Zd0_000023.mp4 -loglevel error -f image2pipe -vf scale=640:360 -sws_flags bicubic -pix_fmt rgb24 -vcodec rawvideo -\n",
      "MoviePy - Building video /home/ubuntu/project/v2a-mapper/train/test_inf/test_vgg/out_videos/BUhhn2e1Zd0_000023_gen.mp4.\n",
      "MoviePy - Writing audio in BUhhn2e1Zd0_000023_genTEMP_MPY_wvf_snd.mp4\n"
     ]
    },
    {
     "name": "stderr",
     "output_type": "stream",
     "text": [
      "                                                                    \r"
     ]
    },
    {
     "name": "stdout",
     "output_type": "stream",
     "text": [
      "MoviePy - Done.\n",
      "MoviePy - Writing video /home/ubuntu/project/v2a-mapper/train/test_inf/test_vgg/out_videos/BUhhn2e1Zd0_000023_gen.mp4\n",
      "\n"
     ]
    },
    {
     "name": "stderr",
     "output_type": "stream",
     "text": [
      "                                                                         \r"
     ]
    },
    {
     "name": "stdout",
     "output_type": "stream",
     "text": [
      "MoviePy - Done !\n",
      "MoviePy - video ready /home/ubuntu/project/v2a-mapper/train/test_inf/test_vgg/out_videos/BUhhn2e1Zd0_000023_gen.mp4\n",
      "已复制: /mnt/new_volume/vgg_sound/scratch/shared/beegfs/hchen/train_data/VGGSound_final/video/BUhhn2e1Zd0_000023.mp4 → /home/ubuntu/project/v2a-mapper/train/test_inf/test_vgg/out_videos/BUhhn2e1Zd0_000023.mp4\n",
      "{'video_found': True, 'audio_found': True, 'metadata': {'major_brand': 'isom', 'minor_version': '512', 'compatible_brands': 'isomiso2avc1mp41', 'encoder': 'Lavf58.12.100'}, 'inputs': [{'streams': [{'input_number': 0, 'stream_number': 0, 'stream_type': 'video', 'language': None, 'default': True, 'size': [1280, 720], 'bitrate': 1930, 'fps': 30.0, 'codec_name': 'h264', 'profile': '(High)', 'metadata': {'Metadata': '', 'handler_name': 'VideoHandler', 'vendor_id': '[0][0][0][0]'}}, {'input_number': 0, 'stream_number': 1, 'stream_type': 'audio', 'language': None, 'default': True, 'fps': 44100, 'bitrate': 128, 'metadata': {'Metadata': '', 'handler_name': 'SoundHandler', 'vendor_id': '[0][0][0][0]'}}], 'input_number': 0}], 'duration': 10.0, 'bitrate': 2069, 'start': 0.0, 'default_video_input_number': 0, 'default_video_stream_number': 0, 'video_codec_name': 'h264', 'video_profile': '(High)', 'video_size': [1280, 720], 'video_bitrate': 1930, 'video_fps': 30.0, 'default_audio_input_number': 0, 'default_audio_stream_number': 1, 'audio_fps': 44100, 'audio_bitrate': 128, 'video_duration': 10.0, 'video_n_frames': 300}\n",
      "/home/ubuntu/miniconda3/envs/mp/lib/python3.11/site-packages/imageio_ffmpeg/binaries/ffmpeg-linux-x86_64-v7.0.2 -i /mnt/new_volume/vgg_sound/scratch/shared/beegfs/hchen/train_data/VGGSound_final/video/Cw6OvD4xr88_000480.mp4 -loglevel error -f image2pipe -vf scale=1280:720 -sws_flags bicubic -pix_fmt rgb24 -vcodec rawvideo -\n",
      "MoviePy - Building video /home/ubuntu/project/v2a-mapper/train/test_inf/test_vgg/out_videos/Cw6OvD4xr88_000480_gen.mp4.\n",
      "MoviePy - Writing audio in Cw6OvD4xr88_000480_genTEMP_MPY_wvf_snd.mp4\n"
     ]
    },
    {
     "name": "stderr",
     "output_type": "stream",
     "text": [
      "                                                                    \r"
     ]
    },
    {
     "name": "stdout",
     "output_type": "stream",
     "text": [
      "MoviePy - Done.\n",
      "MoviePy - Writing video /home/ubuntu/project/v2a-mapper/train/test_inf/test_vgg/out_videos/Cw6OvD4xr88_000480_gen.mp4\n",
      "\n"
     ]
    },
    {
     "name": "stderr",
     "output_type": "stream",
     "text": [
      "                                                                         \r"
     ]
    },
    {
     "name": "stdout",
     "output_type": "stream",
     "text": [
      "MoviePy - Done !\n",
      "MoviePy - video ready /home/ubuntu/project/v2a-mapper/train/test_inf/test_vgg/out_videos/Cw6OvD4xr88_000480_gen.mp4\n",
      "已复制: /mnt/new_volume/vgg_sound/scratch/shared/beegfs/hchen/train_data/VGGSound_final/video/Cw6OvD4xr88_000480.mp4 → /home/ubuntu/project/v2a-mapper/train/test_inf/test_vgg/out_videos/Cw6OvD4xr88_000480.mp4\n",
      "{'video_found': True, 'audio_found': True, 'metadata': {'major_brand': 'isom', 'minor_version': '512', 'compatible_brands': 'isomiso2avc1mp41', 'encoder': 'Lavf58.20.100'}, 'inputs': [{'streams': [{'input_number': 0, 'stream_number': 0, 'stream_type': 'video', 'language': None, 'default': True, 'size': [1280, 720], 'bitrate': 2315, 'fps': 23.976023976023978, 'codec_name': 'h264', 'profile': '(Main)', 'metadata': {'Metadata': '', 'handler_name': 'ISO Media file produced by Google Inc. Created on: 01/09/2020.', 'vendor_id': '[0][0][0][0]'}}, {'input_number': 0, 'stream_number': 1, 'stream_type': 'audio', 'language': None, 'default': True, 'fps': 44100, 'bitrate': 128, 'metadata': {'Metadata': '', 'handler_name': 'ISO Media file produced by Google Inc. Created on: 01/09/2020.', 'vendor_id': '[0][0][0][0]'}}], 'input_number': 0}], 'duration': 10.05, 'bitrate': 2991, 'start': 0.0, 'default_video_input_number': 0, 'default_video_stream_number': 0, 'video_codec_name': 'h264', 'video_profile': '(Main)', 'video_size': [1280, 720], 'video_bitrate': 2315, 'video_fps': 23.976023976023978, 'default_audio_input_number': 0, 'default_audio_stream_number': 1, 'audio_fps': 44100, 'audio_bitrate': 128, 'video_duration': 10.05, 'video_n_frames': 240}\n",
      "/home/ubuntu/miniconda3/envs/mp/lib/python3.11/site-packages/imageio_ffmpeg/binaries/ffmpeg-linux-x86_64-v7.0.2 -i /mnt/new_volume/vgg_sound/scratch/shared/beegfs/hchen/train_data/VGGSound_final/video/FBmAm2yjw1o_000121.mp4 -loglevel error -f image2pipe -vf scale=1280:720 -sws_flags bicubic -pix_fmt rgb24 -vcodec rawvideo -\n",
      "MoviePy - Building video /home/ubuntu/project/v2a-mapper/train/test_inf/test_vgg/out_videos/FBmAm2yjw1o_000121_gen.mp4.\n",
      "MoviePy - Writing audio in FBmAm2yjw1o_000121_genTEMP_MPY_wvf_snd.mp4\n"
     ]
    },
    {
     "name": "stderr",
     "output_type": "stream",
     "text": [
      "                                                                    \r"
     ]
    },
    {
     "name": "stdout",
     "output_type": "stream",
     "text": [
      "MoviePy - Done.\n",
      "MoviePy - Writing video /home/ubuntu/project/v2a-mapper/train/test_inf/test_vgg/out_videos/FBmAm2yjw1o_000121_gen.mp4\n",
      "\n"
     ]
    },
    {
     "name": "stderr",
     "output_type": "stream",
     "text": [
      "                                                                         \r"
     ]
    },
    {
     "name": "stdout",
     "output_type": "stream",
     "text": [
      "MoviePy - Done !\n",
      "MoviePy - video ready /home/ubuntu/project/v2a-mapper/train/test_inf/test_vgg/out_videos/FBmAm2yjw1o_000121_gen.mp4\n",
      "已复制: /mnt/new_volume/vgg_sound/scratch/shared/beegfs/hchen/train_data/VGGSound_final/video/FBmAm2yjw1o_000121.mp4 → /home/ubuntu/project/v2a-mapper/train/test_inf/test_vgg/out_videos/FBmAm2yjw1o_000121.mp4\n",
      "{'video_found': True, 'audio_found': True, 'metadata': {'major_brand': 'isom', 'minor_version': '512', 'compatible_brands': 'isomiso2avc1mp41', 'encoder': 'Lavf58.20.100'}, 'inputs': [{'streams': [{'input_number': 0, 'stream_number': 0, 'stream_type': 'video', 'language': None, 'default': True, 'size': [1280, 720], 'bitrate': 1129, 'fps': 30.0, 'codec_name': 'h264', 'profile': '(High)', 'metadata': {'Metadata': '', 'handler_name': 'ISO Media file produced by Google Inc. Created on: 09/20/2019.', 'vendor_id': '[0][0][0][0]'}}, {'input_number': 0, 'stream_number': 1, 'stream_type': 'audio', 'language': None, 'default': True, 'fps': 44100, 'bitrate': 127, 'metadata': {'Metadata': '', 'handler_name': 'ISO Media file produced by Google Inc. Created on: 09/20/2019.', 'vendor_id': '[0][0][0][0]'}}], 'input_number': 0}], 'duration': 10.03, 'bitrate': 1494, 'start': 0.0, 'default_video_input_number': 0, 'default_video_stream_number': 0, 'video_codec_name': 'h264', 'video_profile': '(High)', 'video_size': [1280, 720], 'video_bitrate': 1129, 'video_fps': 30.0, 'default_audio_input_number': 0, 'default_audio_stream_number': 1, 'audio_fps': 44100, 'audio_bitrate': 127, 'video_duration': 10.03, 'video_n_frames': 300}\n",
      "/home/ubuntu/miniconda3/envs/mp/lib/python3.11/site-packages/imageio_ffmpeg/binaries/ffmpeg-linux-x86_64-v7.0.2 -i /mnt/new_volume/vgg_sound/scratch/shared/beegfs/hchen/train_data/VGGSound_final/video/HYgsw0YuK14_000099.mp4 -loglevel error -f image2pipe -vf scale=1280:720 -sws_flags bicubic -pix_fmt rgb24 -vcodec rawvideo -\n",
      "MoviePy - Building video /home/ubuntu/project/v2a-mapper/train/test_inf/test_vgg/out_videos/HYgsw0YuK14_000099_gen.mp4.\n",
      "MoviePy - Writing audio in HYgsw0YuK14_000099_genTEMP_MPY_wvf_snd.mp4\n"
     ]
    },
    {
     "name": "stderr",
     "output_type": "stream",
     "text": [
      "                                                                    \r"
     ]
    },
    {
     "name": "stdout",
     "output_type": "stream",
     "text": [
      "MoviePy - Done.\n",
      "MoviePy - Writing video /home/ubuntu/project/v2a-mapper/train/test_inf/test_vgg/out_videos/HYgsw0YuK14_000099_gen.mp4\n",
      "\n"
     ]
    },
    {
     "name": "stderr",
     "output_type": "stream",
     "text": [
      "                                                                         \r"
     ]
    },
    {
     "name": "stdout",
     "output_type": "stream",
     "text": [
      "MoviePy - Done !\n",
      "MoviePy - video ready /home/ubuntu/project/v2a-mapper/train/test_inf/test_vgg/out_videos/HYgsw0YuK14_000099_gen.mp4\n",
      "已复制: /mnt/new_volume/vgg_sound/scratch/shared/beegfs/hchen/train_data/VGGSound_final/video/HYgsw0YuK14_000099.mp4 → /home/ubuntu/project/v2a-mapper/train/test_inf/test_vgg/out_videos/HYgsw0YuK14_000099.mp4\n",
      "{'video_found': True, 'audio_found': True, 'metadata': {'major_brand': 'isom', 'minor_version': '512', 'compatible_brands': 'isomiso2avc1mp41', 'encoder': 'Lavf58.12.100'}, 'inputs': [{'streams': [{'input_number': 0, 'stream_number': 0, 'stream_type': 'video', 'language': None, 'default': True, 'size': [480, 360], 'bitrate': 262, 'fps': 30.0, 'codec_name': 'h264', 'profile': '(High)', 'metadata': {'Metadata': '', 'handler_name': 'VideoHandler', 'vendor_id': '[0][0][0][0]'}}, {'input_number': 0, 'stream_number': 1, 'stream_type': 'audio', 'language': None, 'default': True, 'fps': 44100, 'bitrate': 128, 'metadata': {'Metadata': '', 'handler_name': 'SoundHandler', 'vendor_id': '[0][0][0][0]'}}], 'input_number': 0}], 'duration': 10.0, 'bitrate': 400, 'start': 0.0, 'default_video_input_number': 0, 'default_video_stream_number': 0, 'video_codec_name': 'h264', 'video_profile': '(High)', 'video_size': [480, 360], 'video_bitrate': 262, 'video_fps': 30.0, 'default_audio_input_number': 0, 'default_audio_stream_number': 1, 'audio_fps': 44100, 'audio_bitrate': 128, 'video_duration': 10.0, 'video_n_frames': 300}\n",
      "/home/ubuntu/miniconda3/envs/mp/lib/python3.11/site-packages/imageio_ffmpeg/binaries/ffmpeg-linux-x86_64-v7.0.2 -i /mnt/new_volume/vgg_sound/scratch/shared/beegfs/hchen/train_data/VGGSound_final/video/Hkb8B7Xi3hI_000030.mp4 -loglevel error -f image2pipe -vf scale=480:360 -sws_flags bicubic -pix_fmt rgb24 -vcodec rawvideo -\n",
      "MoviePy - Building video /home/ubuntu/project/v2a-mapper/train/test_inf/test_vgg/out_videos/Hkb8B7Xi3hI_000030_gen.mp4.\n",
      "MoviePy - Writing audio in Hkb8B7Xi3hI_000030_genTEMP_MPY_wvf_snd.mp4\n"
     ]
    },
    {
     "name": "stderr",
     "output_type": "stream",
     "text": [
      "                                                                    \r"
     ]
    },
    {
     "name": "stdout",
     "output_type": "stream",
     "text": [
      "MoviePy - Done.\n",
      "MoviePy - Writing video /home/ubuntu/project/v2a-mapper/train/test_inf/test_vgg/out_videos/Hkb8B7Xi3hI_000030_gen.mp4\n",
      "\n"
     ]
    },
    {
     "name": "stderr",
     "output_type": "stream",
     "text": [
      "                                                                         \r"
     ]
    },
    {
     "name": "stdout",
     "output_type": "stream",
     "text": [
      "MoviePy - Done !\n",
      "MoviePy - video ready /home/ubuntu/project/v2a-mapper/train/test_inf/test_vgg/out_videos/Hkb8B7Xi3hI_000030_gen.mp4\n",
      "已复制: /mnt/new_volume/vgg_sound/scratch/shared/beegfs/hchen/train_data/VGGSound_final/video/Hkb8B7Xi3hI_000030.mp4 → /home/ubuntu/project/v2a-mapper/train/test_inf/test_vgg/out_videos/Hkb8B7Xi3hI_000030.mp4\n",
      "{'video_found': True, 'audio_found': True, 'metadata': {'major_brand': 'isom', 'minor_version': '512', 'compatible_brands': 'isomiso2avc1mp41', 'encoder': 'Lavf58.20.100'}, 'inputs': [{'streams': [{'input_number': 0, 'stream_number': 0, 'stream_type': 'video', 'language': None, 'default': True, 'size': [640, 360], 'bitrate': 640, 'fps': 29.5, 'codec_name': 'h264', 'profile': '(Constrained Baseline)', 'metadata': {'Metadata': '', 'handler_name': 'ISO Media file produced by Google Inc. Created on: 08/09/2019.', 'vendor_id': '[0][0][0][0]'}}, {'input_number': 0, 'stream_number': 1, 'stream_type': 'audio', 'language': 'eng', 'default': True, 'fps': 44100, 'bitrate': 96, 'metadata': {'Metadata': '', 'handler_name': 'ISO Media file produced by Google Inc. Created on: 08/09/2019.', 'vendor_id': '[0][0][0][0]'}}], 'input_number': 0}], 'duration': 10.03, 'bitrate': 845, 'start': 0.0, 'default_video_input_number': 0, 'default_video_stream_number': 0, 'video_codec_name': 'h264', 'video_profile': '(Constrained Baseline)', 'video_size': [640, 360], 'video_bitrate': 640, 'video_fps': 29.5, 'default_audio_input_number': 0, 'default_audio_stream_number': 1, 'audio_fps': 44100, 'audio_bitrate': 96, 'video_duration': 10.03, 'video_n_frames': 295}\n",
      "/home/ubuntu/miniconda3/envs/mp/lib/python3.11/site-packages/imageio_ffmpeg/binaries/ffmpeg-linux-x86_64-v7.0.2 -i /mnt/new_volume/vgg_sound/scratch/shared/beegfs/hchen/train_data/VGGSound_final/video/I8r4hsBwoRQ_000051.mp4 -loglevel error -f image2pipe -vf scale=640:360 -sws_flags bicubic -pix_fmt rgb24 -vcodec rawvideo -\n",
      "MoviePy - Building video /home/ubuntu/project/v2a-mapper/train/test_inf/test_vgg/out_videos/I8r4hsBwoRQ_000051_gen.mp4.\n",
      "MoviePy - Writing audio in I8r4hsBwoRQ_000051_genTEMP_MPY_wvf_snd.mp4\n"
     ]
    },
    {
     "name": "stderr",
     "output_type": "stream",
     "text": [
      "                                                                   \r"
     ]
    },
    {
     "name": "stdout",
     "output_type": "stream",
     "text": [
      "MoviePy - Done.\n",
      "MoviePy - Writing video /home/ubuntu/project/v2a-mapper/train/test_inf/test_vgg/out_videos/I8r4hsBwoRQ_000051_gen.mp4\n",
      "\n"
     ]
    },
    {
     "name": "stderr",
     "output_type": "stream",
     "text": [
      "                                                                         \r"
     ]
    },
    {
     "name": "stdout",
     "output_type": "stream",
     "text": [
      "MoviePy - Done !\n",
      "MoviePy - video ready /home/ubuntu/project/v2a-mapper/train/test_inf/test_vgg/out_videos/I8r4hsBwoRQ_000051_gen.mp4\n",
      "已复制: /mnt/new_volume/vgg_sound/scratch/shared/beegfs/hchen/train_data/VGGSound_final/video/I8r4hsBwoRQ_000051.mp4 → /home/ubuntu/project/v2a-mapper/train/test_inf/test_vgg/out_videos/I8r4hsBwoRQ_000051.mp4\n",
      "{'video_found': True, 'audio_found': True, 'metadata': {'major_brand': 'isom', 'minor_version': '512', 'compatible_brands': 'isomiso2avc1mp41', 'encoder': 'Lavf58.12.100'}, 'inputs': [{'streams': [{'input_number': 0, 'stream_number': 0, 'stream_type': 'video', 'language': None, 'default': True, 'size': [1280, 720], 'bitrate': 1667, 'fps': 30.0, 'codec_name': 'h264', 'profile': '(High)', 'metadata': {'Metadata': '', 'handler_name': 'VideoHandler', 'vendor_id': '[0][0][0][0]'}}, {'input_number': 0, 'stream_number': 1, 'stream_type': 'audio', 'language': None, 'default': True, 'fps': 44100, 'bitrate': 128, 'metadata': {'Metadata': '', 'handler_name': 'SoundHandler', 'vendor_id': '[0][0][0][0]'}}], 'input_number': 0}], 'duration': 10.0, 'bitrate': 1805, 'start': 0.0, 'default_video_input_number': 0, 'default_video_stream_number': 0, 'video_codec_name': 'h264', 'video_profile': '(High)', 'video_size': [1280, 720], 'video_bitrate': 1667, 'video_fps': 30.0, 'default_audio_input_number': 0, 'default_audio_stream_number': 1, 'audio_fps': 44100, 'audio_bitrate': 128, 'video_duration': 10.0, 'video_n_frames': 300}\n",
      "/home/ubuntu/miniconda3/envs/mp/lib/python3.11/site-packages/imageio_ffmpeg/binaries/ffmpeg-linux-x86_64-v7.0.2 -i /mnt/new_volume/vgg_sound/scratch/shared/beegfs/hchen/train_data/VGGSound_final/video/J0p_joNdGe0_000030.mp4 -loglevel error -f image2pipe -vf scale=1280:720 -sws_flags bicubic -pix_fmt rgb24 -vcodec rawvideo -\n",
      "MoviePy - Building video /home/ubuntu/project/v2a-mapper/train/test_inf/test_vgg/out_videos/J0p_joNdGe0_000030_gen.mp4.\n",
      "MoviePy - Writing audio in J0p_joNdGe0_000030_genTEMP_MPY_wvf_snd.mp4\n"
     ]
    },
    {
     "name": "stderr",
     "output_type": "stream",
     "text": [
      "                                                                    \r"
     ]
    },
    {
     "name": "stdout",
     "output_type": "stream",
     "text": [
      "MoviePy - Done.\n",
      "MoviePy - Writing video /home/ubuntu/project/v2a-mapper/train/test_inf/test_vgg/out_videos/J0p_joNdGe0_000030_gen.mp4\n",
      "\n"
     ]
    },
    {
     "name": "stderr",
     "output_type": "stream",
     "text": [
      "                                                                         \r"
     ]
    },
    {
     "name": "stdout",
     "output_type": "stream",
     "text": [
      "MoviePy - Done !\n",
      "MoviePy - video ready /home/ubuntu/project/v2a-mapper/train/test_inf/test_vgg/out_videos/J0p_joNdGe0_000030_gen.mp4\n",
      "已复制: /mnt/new_volume/vgg_sound/scratch/shared/beegfs/hchen/train_data/VGGSound_final/video/J0p_joNdGe0_000030.mp4 → /home/ubuntu/project/v2a-mapper/train/test_inf/test_vgg/out_videos/J0p_joNdGe0_000030.mp4\n",
      "{'video_found': True, 'audio_found': True, 'metadata': {'major_brand': 'isom', 'minor_version': '512', 'compatible_brands': 'isomiso2avc1mp41', 'encoder': 'Lavf58.20.100'}, 'inputs': [{'streams': [{'input_number': 0, 'stream_number': 0, 'stream_type': 'video', 'language': None, 'default': True, 'size': [1280, 720], 'bitrate': 2295, 'fps': 29.97002997002997, 'codec_name': 'h264', 'profile': '(Main)', 'metadata': {'Metadata': '', 'handler_name': 'ISO Media file produced by Google Inc. Created on: 10/01/2017.', 'vendor_id': '[0][0][0][0]'}}, {'input_number': 0, 'stream_number': 1, 'stream_type': 'audio', 'language': None, 'default': True, 'fps': 44100, 'bitrate': 125, 'metadata': {'Metadata': '', 'handler_name': 'ISO Media file produced by Google Inc. Created on: 10/01/2017.', 'vendor_id': '[0][0][0][0]'}}], 'input_number': 0}], 'duration': 10.06, 'bitrate': 3272, 'start': 0.0, 'default_video_input_number': 0, 'default_video_stream_number': 0, 'video_codec_name': 'h264', 'video_profile': '(Main)', 'video_size': [1280, 720], 'video_bitrate': 2295, 'video_fps': 29.97002997002997, 'default_audio_input_number': 0, 'default_audio_stream_number': 1, 'audio_fps': 44100, 'audio_bitrate': 125, 'video_duration': 10.06, 'video_n_frames': 301}\n",
      "/home/ubuntu/miniconda3/envs/mp/lib/python3.11/site-packages/imageio_ffmpeg/binaries/ffmpeg-linux-x86_64-v7.0.2 -i /mnt/new_volume/vgg_sound/scratch/shared/beegfs/hchen/train_data/VGGSound_final/video/T49ZibcfVcw_000181.mp4 -loglevel error -f image2pipe -vf scale=1280:720 -sws_flags bicubic -pix_fmt rgb24 -vcodec rawvideo -\n",
      "MoviePy - Building video /home/ubuntu/project/v2a-mapper/train/test_inf/test_vgg/out_videos/T49ZibcfVcw_000181_gen.mp4.\n",
      "MoviePy - Writing audio in T49ZibcfVcw_000181_genTEMP_MPY_wvf_snd.mp4\n"
     ]
    },
    {
     "name": "stderr",
     "output_type": "stream",
     "text": [
      "                                                                    \r"
     ]
    },
    {
     "name": "stdout",
     "output_type": "stream",
     "text": [
      "MoviePy - Done.\n",
      "MoviePy - Writing video /home/ubuntu/project/v2a-mapper/train/test_inf/test_vgg/out_videos/T49ZibcfVcw_000181_gen.mp4\n",
      "\n"
     ]
    },
    {
     "name": "stderr",
     "output_type": "stream",
     "text": [
      "                                                                         \r"
     ]
    },
    {
     "name": "stdout",
     "output_type": "stream",
     "text": [
      "MoviePy - Done !\n",
      "MoviePy - video ready /home/ubuntu/project/v2a-mapper/train/test_inf/test_vgg/out_videos/T49ZibcfVcw_000181_gen.mp4\n",
      "已复制: /mnt/new_volume/vgg_sound/scratch/shared/beegfs/hchen/train_data/VGGSound_final/video/T49ZibcfVcw_000181.mp4 → /home/ubuntu/project/v2a-mapper/train/test_inf/test_vgg/out_videos/T49ZibcfVcw_000181.mp4\n",
      "{'video_found': True, 'audio_found': True, 'metadata': {'major_brand': 'isom', 'minor_version': '512', 'compatible_brands': 'isomiso2avc1mp41', 'encoder': 'Lavf58.20.100'}, 'inputs': [{'streams': [{'input_number': 0, 'stream_number': 0, 'stream_type': 'video', 'language': None, 'default': True, 'size': [1280, 720], 'bitrate': 213, 'fps': 6.0, 'codec_name': 'h264', 'profile': '(Main)', 'metadata': {'Metadata': '', 'handler_name': 'ISO Media file produced by Google Inc. Created on: 12/21/2017.', 'vendor_id': '[0][0][0][0]'}}, {'input_number': 0, 'stream_number': 1, 'stream_type': 'audio', 'language': None, 'default': True, 'fps': 44100, 'bitrate': 125, 'metadata': {'Metadata': '', 'handler_name': 'ISO Media file produced by Google Inc. Created on: 12/21/2017.', 'vendor_id': '[0][0][0][0]'}}], 'input_number': 0}], 'duration': 10.17, 'bitrate': 455, 'start': 0.0, 'default_video_input_number': 0, 'default_video_stream_number': 0, 'video_codec_name': 'h264', 'video_profile': '(Main)', 'video_size': [1280, 720], 'video_bitrate': 213, 'video_fps': 6.0, 'default_audio_input_number': 0, 'default_audio_stream_number': 1, 'audio_fps': 44100, 'audio_bitrate': 125, 'video_duration': 10.17, 'video_n_frames': 61}\n",
      "/home/ubuntu/miniconda3/envs/mp/lib/python3.11/site-packages/imageio_ffmpeg/binaries/ffmpeg-linux-x86_64-v7.0.2 -i /mnt/new_volume/vgg_sound/scratch/shared/beegfs/hchen/train_data/VGGSound_final/video/WFn0Y5IqyME_000046.mp4 -loglevel error -f image2pipe -vf scale=1280:720 -sws_flags bicubic -pix_fmt rgb24 -vcodec rawvideo -\n",
      "MoviePy - Building video /home/ubuntu/project/v2a-mapper/train/test_inf/test_vgg/out_videos/WFn0Y5IqyME_000046_gen.mp4.\n",
      "MoviePy - Writing audio in WFn0Y5IqyME_000046_genTEMP_MPY_wvf_snd.mp4\n"
     ]
    },
    {
     "name": "stderr",
     "output_type": "stream",
     "text": [
      "                                                                    \r"
     ]
    },
    {
     "name": "stdout",
     "output_type": "stream",
     "text": [
      "MoviePy - Done.\n",
      "MoviePy - Writing video /home/ubuntu/project/v2a-mapper/train/test_inf/test_vgg/out_videos/WFn0Y5IqyME_000046_gen.mp4\n",
      "\n"
     ]
    },
    {
     "name": "stderr",
     "output_type": "stream",
     "text": [
      "frame_index:  70%|███████   | 43/61 [00:00<00:00, 210.88it/s, now=None]/home/ubuntu/miniconda3/envs/mp/lib/python3.11/site-packages/moviepy/video/io/ffmpeg_reader.py:178: UserWarning: In file /mnt/new_volume/vgg_sound/scratch/shared/beegfs/hchen/train_data/VGGSound_final/video/WFn0Y5IqyME_000046.mp4, 2764800 bytes wanted but 0 bytes read at frame index 60 (out of a total 61 frames), at time 10.00/10.17 sec. Using the last valid frame instead.\n",
      "  warnings.warn(\n",
      "                                                                       \r"
     ]
    },
    {
     "name": "stdout",
     "output_type": "stream",
     "text": [
      "MoviePy - Done !\n",
      "MoviePy - video ready /home/ubuntu/project/v2a-mapper/train/test_inf/test_vgg/out_videos/WFn0Y5IqyME_000046_gen.mp4\n",
      "已复制: /mnt/new_volume/vgg_sound/scratch/shared/beegfs/hchen/train_data/VGGSound_final/video/WFn0Y5IqyME_000046.mp4 → /home/ubuntu/project/v2a-mapper/train/test_inf/test_vgg/out_videos/WFn0Y5IqyME_000046.mp4\n",
      "{'video_found': True, 'audio_found': True, 'metadata': {'major_brand': 'isom', 'minor_version': '512', 'compatible_brands': 'isomiso2avc1mp41', 'encoder': 'Lavf58.20.100'}, 'inputs': [{'streams': [{'input_number': 0, 'stream_number': 0, 'stream_type': 'video', 'language': None, 'default': True, 'size': [1280, 720], 'bitrate': 947, 'fps': 25.0, 'codec_name': 'h264', 'profile': '(Main)', 'metadata': {'Metadata': '', 'handler_name': 'ISO Media file produced by Google Inc. Created on: 06/04/2018.', 'vendor_id': '[0][0][0][0]'}}, {'input_number': 0, 'stream_number': 1, 'stream_type': 'audio', 'language': 'eng', 'default': True, 'fps': 44100, 'bitrate': 125, 'metadata': {'Metadata': '', 'handler_name': 'ISO Media file produced by Google Inc. Created on: 06/04/2018.', 'vendor_id': '[0][0][0][0]'}}], 'input_number': 0}], 'duration': 10.04, 'bitrate': 1510, 'start': 0.0, 'default_video_input_number': 0, 'default_video_stream_number': 0, 'video_codec_name': 'h264', 'video_profile': '(Main)', 'video_size': [1280, 720], 'video_bitrate': 947, 'video_fps': 25.0, 'default_audio_input_number': 0, 'default_audio_stream_number': 1, 'audio_fps': 44100, 'audio_bitrate': 125, 'video_duration': 10.04, 'video_n_frames': 250}\n",
      "/home/ubuntu/miniconda3/envs/mp/lib/python3.11/site-packages/imageio_ffmpeg/binaries/ffmpeg-linux-x86_64-v7.0.2 -i /mnt/new_volume/vgg_sound/scratch/shared/beegfs/hchen/train_data/VGGSound_final/video/X7EGSxA-aCI_000132.mp4 -loglevel error -f image2pipe -vf scale=1280:720 -sws_flags bicubic -pix_fmt rgb24 -vcodec rawvideo -\n",
      "MoviePy - Building video /home/ubuntu/project/v2a-mapper/train/test_inf/test_vgg/out_videos/X7EGSxA-aCI_000132_gen.mp4.\n",
      "MoviePy - Writing audio in X7EGSxA-aCI_000132_genTEMP_MPY_wvf_snd.mp4\n"
     ]
    },
    {
     "name": "stderr",
     "output_type": "stream",
     "text": [
      "                                                                    \r"
     ]
    },
    {
     "name": "stdout",
     "output_type": "stream",
     "text": [
      "MoviePy - Done.\n",
      "MoviePy - Writing video /home/ubuntu/project/v2a-mapper/train/test_inf/test_vgg/out_videos/X7EGSxA-aCI_000132_gen.mp4\n",
      "\n"
     ]
    },
    {
     "name": "stderr",
     "output_type": "stream",
     "text": [
      "                                                                         \r"
     ]
    },
    {
     "name": "stdout",
     "output_type": "stream",
     "text": [
      "MoviePy - Done !\n",
      "MoviePy - video ready /home/ubuntu/project/v2a-mapper/train/test_inf/test_vgg/out_videos/X7EGSxA-aCI_000132_gen.mp4\n",
      "已复制: /mnt/new_volume/vgg_sound/scratch/shared/beegfs/hchen/train_data/VGGSound_final/video/X7EGSxA-aCI_000132.mp4 → /home/ubuntu/project/v2a-mapper/train/test_inf/test_vgg/out_videos/X7EGSxA-aCI_000132.mp4\n",
      "{'video_found': True, 'audio_found': True, 'metadata': {'major_brand': 'isom', 'minor_version': '512', 'compatible_brands': 'isomiso2avc1mp41', 'encoder': 'Lavf58.12.100'}, 'inputs': [{'streams': [{'input_number': 0, 'stream_number': 0, 'stream_type': 'video', 'language': None, 'default': True, 'size': [1280, 720], 'bitrate': 937, 'fps': 30.0, 'codec_name': 'h264', 'profile': '(High)', 'metadata': {'Metadata': '', 'handler_name': 'VideoHandler', 'vendor_id': '[0][0][0][0]'}}, {'input_number': 0, 'stream_number': 1, 'stream_type': 'audio', 'language': None, 'default': True, 'fps': 44100, 'bitrate': 128, 'metadata': {'Metadata': '', 'handler_name': 'SoundHandler', 'vendor_id': '[0][0][0][0]'}}], 'input_number': 0}], 'duration': 10.0, 'bitrate': 1075, 'start': 0.0, 'default_video_input_number': 0, 'default_video_stream_number': 0, 'video_codec_name': 'h264', 'video_profile': '(High)', 'video_size': [1280, 720], 'video_bitrate': 937, 'video_fps': 30.0, 'default_audio_input_number': 0, 'default_audio_stream_number': 1, 'audio_fps': 44100, 'audio_bitrate': 128, 'video_duration': 10.0, 'video_n_frames': 300}\n",
      "/home/ubuntu/miniconda3/envs/mp/lib/python3.11/site-packages/imageio_ffmpeg/binaries/ffmpeg-linux-x86_64-v7.0.2 -i /mnt/new_volume/vgg_sound/scratch/shared/beegfs/hchen/train_data/VGGSound_final/video/YXFcsZYysSE_000010.mp4 -loglevel error -f image2pipe -vf scale=1280:720 -sws_flags bicubic -pix_fmt rgb24 -vcodec rawvideo -\n",
      "MoviePy - Building video /home/ubuntu/project/v2a-mapper/train/test_inf/test_vgg/out_videos/YXFcsZYysSE_000010_gen.mp4.\n",
      "MoviePy - Writing audio in YXFcsZYysSE_000010_genTEMP_MPY_wvf_snd.mp4\n"
     ]
    },
    {
     "name": "stderr",
     "output_type": "stream",
     "text": [
      "                                                                    \r"
     ]
    },
    {
     "name": "stdout",
     "output_type": "stream",
     "text": [
      "MoviePy - Done.\n",
      "MoviePy - Writing video /home/ubuntu/project/v2a-mapper/train/test_inf/test_vgg/out_videos/YXFcsZYysSE_000010_gen.mp4\n",
      "\n"
     ]
    },
    {
     "name": "stderr",
     "output_type": "stream",
     "text": [
      "                                                                         \r"
     ]
    },
    {
     "name": "stdout",
     "output_type": "stream",
     "text": [
      "MoviePy - Done !\n",
      "MoviePy - video ready /home/ubuntu/project/v2a-mapper/train/test_inf/test_vgg/out_videos/YXFcsZYysSE_000010_gen.mp4\n",
      "已复制: /mnt/new_volume/vgg_sound/scratch/shared/beegfs/hchen/train_data/VGGSound_final/video/YXFcsZYysSE_000010.mp4 → /home/ubuntu/project/v2a-mapper/train/test_inf/test_vgg/out_videos/YXFcsZYysSE_000010.mp4\n",
      "{'video_found': True, 'audio_found': True, 'metadata': {'major_brand': 'isom', 'minor_version': '512', 'compatible_brands': 'isomiso2avc1mp41', 'encoder': 'Lavf58.20.100'}, 'inputs': [{'streams': [{'input_number': 0, 'stream_number': 0, 'stream_type': 'video', 'language': None, 'default': True, 'size': [1280, 720], 'bitrate': 1869, 'fps': 23.976023976023978, 'codec_name': 'h264', 'profile': '(High)', 'metadata': {'Metadata': '', 'handler_name': 'VideoHandler', 'vendor_id': '[0][0][0][0]'}}, {'input_number': 0, 'stream_number': 1, 'stream_type': 'audio', 'language': 'eng', 'default': True, 'fps': 44100, 'bitrate': 192, 'metadata': {'Metadata': '', 'handler_name': 'IsoMedia File Produced by Google, 5-11-2011', 'vendor_id': '[0][0][0][0]'}}], 'input_number': 0}], 'duration': 10.01, 'bitrate': 2274, 'start': 0.0, 'default_video_input_number': 0, 'default_video_stream_number': 0, 'video_codec_name': 'h264', 'video_profile': '(High)', 'video_size': [1280, 720], 'video_bitrate': 1869, 'video_fps': 23.976023976023978, 'default_audio_input_number': 0, 'default_audio_stream_number': 1, 'audio_fps': 44100, 'audio_bitrate': 192, 'video_duration': 10.01, 'video_n_frames': 240}\n",
      "/home/ubuntu/miniconda3/envs/mp/lib/python3.11/site-packages/imageio_ffmpeg/binaries/ffmpeg-linux-x86_64-v7.0.2 -i /mnt/new_volume/vgg_sound/scratch/shared/beegfs/hchen/train_data/VGGSound_final/video/a5GwBjnRl7w_000167.mp4 -loglevel error -f image2pipe -vf scale=1280:720 -sws_flags bicubic -pix_fmt rgb24 -vcodec rawvideo -\n",
      "MoviePy - Building video /home/ubuntu/project/v2a-mapper/train/test_inf/test_vgg/out_videos/a5GwBjnRl7w_000167_gen.mp4.\n",
      "MoviePy - Writing audio in a5GwBjnRl7w_000167_genTEMP_MPY_wvf_snd.mp4\n"
     ]
    },
    {
     "name": "stderr",
     "output_type": "stream",
     "text": [
      "                                                                    \r"
     ]
    },
    {
     "name": "stdout",
     "output_type": "stream",
     "text": [
      "MoviePy - Done.\n",
      "MoviePy - Writing video /home/ubuntu/project/v2a-mapper/train/test_inf/test_vgg/out_videos/a5GwBjnRl7w_000167_gen.mp4\n",
      "\n"
     ]
    },
    {
     "name": "stderr",
     "output_type": "stream",
     "text": [
      "                                                                         \r"
     ]
    },
    {
     "name": "stdout",
     "output_type": "stream",
     "text": [
      "MoviePy - Done !\n",
      "MoviePy - video ready /home/ubuntu/project/v2a-mapper/train/test_inf/test_vgg/out_videos/a5GwBjnRl7w_000167_gen.mp4\n",
      "已复制: /mnt/new_volume/vgg_sound/scratch/shared/beegfs/hchen/train_data/VGGSound_final/video/a5GwBjnRl7w_000167.mp4 → /home/ubuntu/project/v2a-mapper/train/test_inf/test_vgg/out_videos/a5GwBjnRl7w_000167.mp4\n",
      "{'video_found': True, 'audio_found': True, 'metadata': {'major_brand': 'isom', 'minor_version': '512', 'compatible_brands': 'isomiso2avc1mp41', 'encoder': 'Lavf58.20.100'}, 'inputs': [{'streams': [{'input_number': 0, 'stream_number': 0, 'stream_type': 'video', 'language': None, 'default': True, 'size': [480, 270], 'bitrate': 563, 'fps': 30.0, 'codec_name': 'h264', 'profile': '(Baseline)', 'metadata': {'Metadata': '', 'handler_name': '(C) 2007 Google Inc. v06.24.2007.', 'vendor_id': '[0][0][0][0]'}}, {'input_number': 0, 'stream_number': 1, 'stream_type': 'audio', 'language': None, 'default': True, 'fps': 44100, 'bitrate': 118, 'metadata': {'Metadata': '', 'handler_name': '(C) 2007 Google Inc. v06.24.2007.', 'vendor_id': '[0][0][0][0]'}}], 'input_number': 0}], 'duration': 10.01, 'bitrate': 688, 'start': 0.0, 'default_video_input_number': 0, 'default_video_stream_number': 0, 'video_codec_name': 'h264', 'video_profile': '(Baseline)', 'video_size': [480, 270], 'video_bitrate': 563, 'video_fps': 30.0, 'default_audio_input_number': 0, 'default_audio_stream_number': 1, 'audio_fps': 44100, 'audio_bitrate': 118, 'video_duration': 10.01, 'video_n_frames': 300}\n",
      "/home/ubuntu/miniconda3/envs/mp/lib/python3.11/site-packages/imageio_ffmpeg/binaries/ffmpeg-linux-x86_64-v7.0.2 -i /mnt/new_volume/vgg_sound/scratch/shared/beegfs/hchen/train_data/VGGSound_final/video/bMTH2xU0KRg_000000.mp4 -loglevel error -f image2pipe -vf scale=480:270 -sws_flags bicubic -pix_fmt rgb24 -vcodec rawvideo -\n",
      "MoviePy - Building video /home/ubuntu/project/v2a-mapper/train/test_inf/test_vgg/out_videos/bMTH2xU0KRg_000000_gen.mp4.\n",
      "MoviePy - Writing audio in bMTH2xU0KRg_000000_genTEMP_MPY_wvf_snd.mp4\n"
     ]
    },
    {
     "name": "stderr",
     "output_type": "stream",
     "text": [
      "                                                                   \r"
     ]
    },
    {
     "name": "stdout",
     "output_type": "stream",
     "text": [
      "MoviePy - Done.\n",
      "MoviePy - Writing video /home/ubuntu/project/v2a-mapper/train/test_inf/test_vgg/out_videos/bMTH2xU0KRg_000000_gen.mp4\n",
      "\n"
     ]
    },
    {
     "name": "stderr",
     "output_type": "stream",
     "text": [
      "                                                                         \r"
     ]
    },
    {
     "name": "stdout",
     "output_type": "stream",
     "text": [
      "MoviePy - Done !\n",
      "MoviePy - video ready /home/ubuntu/project/v2a-mapper/train/test_inf/test_vgg/out_videos/bMTH2xU0KRg_000000_gen.mp4\n",
      "已复制: /mnt/new_volume/vgg_sound/scratch/shared/beegfs/hchen/train_data/VGGSound_final/video/bMTH2xU0KRg_000000.mp4 → /home/ubuntu/project/v2a-mapper/train/test_inf/test_vgg/out_videos/bMTH2xU0KRg_000000.mp4\n",
      "{'video_found': True, 'audio_found': True, 'metadata': {'major_brand': 'isom', 'minor_version': '512', 'compatible_brands': 'isomiso2avc1mp41', 'encoder': 'Lavf58.20.100'}, 'inputs': [{'streams': [{'input_number': 0, 'stream_number': 0, 'stream_type': 'video', 'language': None, 'default': True, 'size': [1280, 720], 'bitrate': 896, 'fps': 25.0, 'codec_name': 'h264', 'profile': '(Main)', 'metadata': {'Metadata': '', 'handler_name': 'VideoHandler', 'vendor_id': '[0][0][0][0]'}}, {'input_number': 0, 'stream_number': 1, 'stream_type': 'audio', 'language': 'eng', 'default': True, 'fps': 44100, 'bitrate': 125, 'metadata': {'Metadata': '', 'handler_name': 'SoundHandler', 'vendor_id': '[0][0][0][0]'}}], 'input_number': 0}], 'duration': 10.04, 'bitrate': 1299, 'start': 0.0, 'default_video_input_number': 0, 'default_video_stream_number': 0, 'video_codec_name': 'h264', 'video_profile': '(Main)', 'video_size': [1280, 720], 'video_bitrate': 896, 'video_fps': 25.0, 'default_audio_input_number': 0, 'default_audio_stream_number': 1, 'audio_fps': 44100, 'audio_bitrate': 125, 'video_duration': 10.04, 'video_n_frames': 250}\n",
      "/home/ubuntu/miniconda3/envs/mp/lib/python3.11/site-packages/imageio_ffmpeg/binaries/ffmpeg-linux-x86_64-v7.0.2 -i /mnt/new_volume/vgg_sound/scratch/shared/beegfs/hchen/train_data/VGGSound_final/video/eNAYIfITgpw_000658.mp4 -loglevel error -f image2pipe -vf scale=1280:720 -sws_flags bicubic -pix_fmt rgb24 -vcodec rawvideo -\n",
      "MoviePy - Building video /home/ubuntu/project/v2a-mapper/train/test_inf/test_vgg/out_videos/eNAYIfITgpw_000658_gen.mp4.\n",
      "MoviePy - Writing audio in eNAYIfITgpw_000658_genTEMP_MPY_wvf_snd.mp4\n"
     ]
    },
    {
     "name": "stderr",
     "output_type": "stream",
     "text": [
      "                                                                    \r"
     ]
    },
    {
     "name": "stdout",
     "output_type": "stream",
     "text": [
      "MoviePy - Done.\n",
      "MoviePy - Writing video /home/ubuntu/project/v2a-mapper/train/test_inf/test_vgg/out_videos/eNAYIfITgpw_000658_gen.mp4\n",
      "\n"
     ]
    },
    {
     "name": "stderr",
     "output_type": "stream",
     "text": [
      "                                                                         \r"
     ]
    },
    {
     "name": "stdout",
     "output_type": "stream",
     "text": [
      "MoviePy - Done !\n",
      "MoviePy - video ready /home/ubuntu/project/v2a-mapper/train/test_inf/test_vgg/out_videos/eNAYIfITgpw_000658_gen.mp4\n",
      "已复制: /mnt/new_volume/vgg_sound/scratch/shared/beegfs/hchen/train_data/VGGSound_final/video/eNAYIfITgpw_000658.mp4 → /home/ubuntu/project/v2a-mapper/train/test_inf/test_vgg/out_videos/eNAYIfITgpw_000658.mp4\n",
      "{'video_found': True, 'audio_found': True, 'metadata': {'major_brand': 'isom', 'minor_version': '512', 'compatible_brands': 'isomiso2avc1mp41', 'encoder': 'Lavf58.20.100'}, 'inputs': [{'streams': [{'input_number': 0, 'stream_number': 0, 'stream_type': 'video', 'language': None, 'default': True, 'size': [640, 360], 'bitrate': 272, 'fps': 29.97002997002997, 'codec_name': 'h264', 'profile': '(Constrained Baseline)', 'metadata': {'Metadata': '', 'handler_name': 'VideoHandler', 'vendor_id': '[0][0][0][0]'}}, {'input_number': 0, 'stream_number': 1, 'stream_type': 'audio', 'language': None, 'default': True, 'fps': 44100, 'bitrate': 95, 'metadata': {'Metadata': '', 'handler_name': 'IsoMedia File Produced by Google, 5-11-2011', 'vendor_id': '[0][0][0][0]'}}], 'input_number': 0}], 'duration': 10.03, 'bitrate': 448, 'start': 0.0, 'default_video_input_number': 0, 'default_video_stream_number': 0, 'video_codec_name': 'h264', 'video_profile': '(Constrained Baseline)', 'video_size': [640, 360], 'video_bitrate': 272, 'video_fps': 29.97002997002997, 'default_audio_input_number': 0, 'default_audio_stream_number': 1, 'audio_fps': 44100, 'audio_bitrate': 95, 'video_duration': 10.03, 'video_n_frames': 300}\n",
      "/home/ubuntu/miniconda3/envs/mp/lib/python3.11/site-packages/imageio_ffmpeg/binaries/ffmpeg-linux-x86_64-v7.0.2 -i /mnt/new_volume/vgg_sound/scratch/shared/beegfs/hchen/train_data/VGGSound_final/video/e_DeEDpWnP4_000083.mp4 -loglevel error -f image2pipe -vf scale=640:360 -sws_flags bicubic -pix_fmt rgb24 -vcodec rawvideo -\n",
      "MoviePy - Building video /home/ubuntu/project/v2a-mapper/train/test_inf/test_vgg/out_videos/e_DeEDpWnP4_000083_gen.mp4.\n",
      "MoviePy - Writing audio in e_DeEDpWnP4_000083_genTEMP_MPY_wvf_snd.mp4\n"
     ]
    },
    {
     "name": "stderr",
     "output_type": "stream",
     "text": [
      "                                                                    \r"
     ]
    },
    {
     "name": "stdout",
     "output_type": "stream",
     "text": [
      "MoviePy - Done.\n",
      "MoviePy - Writing video /home/ubuntu/project/v2a-mapper/train/test_inf/test_vgg/out_videos/e_DeEDpWnP4_000083_gen.mp4\n",
      "\n"
     ]
    },
    {
     "name": "stderr",
     "output_type": "stream",
     "text": [
      "                                                                         \r"
     ]
    },
    {
     "name": "stdout",
     "output_type": "stream",
     "text": [
      "MoviePy - Done !\n",
      "MoviePy - video ready /home/ubuntu/project/v2a-mapper/train/test_inf/test_vgg/out_videos/e_DeEDpWnP4_000083_gen.mp4\n",
      "已复制: /mnt/new_volume/vgg_sound/scratch/shared/beegfs/hchen/train_data/VGGSound_final/video/e_DeEDpWnP4_000083.mp4 → /home/ubuntu/project/v2a-mapper/train/test_inf/test_vgg/out_videos/e_DeEDpWnP4_000083.mp4\n"
     ]
    }
   ],
   "source": [
    "\n",
    "for i in trange(len(video_ids)):\n",
    "    # 输入视频和音频路径\n",
    "    video_path = video_root_path + video_ids[i]\n",
    "    audio_path = audio_root_path + audio_gen_ids[i]\n",
    "\n",
    "    output_path = f\"/home/ubuntu/project/v2a-mapper/train/test_inf/test_vgg/out_videos/{video_ids[i][:-4]}_gen.mp4\"\n",
    "\n",
    "    # 加载视频和音频\n",
    "    video = VideoFileClip(video_path)\n",
    "    new_audio = AudioFileClip(audio_path)\n",
    "\n",
    "    # # 将视频的音轨替换为新的音频\n",
    "    video.audio = new_audio\n",
    "\n",
    "\n",
    "    video.write_videofile(\n",
    "        output_path,\n",
    "        codec=\"libx264\",\n",
    "        audio_codec=\"aac\",\n",
    "        fps=video.fps\n",
    "    )\n",
    "    copy_file_to_dir(video_path, \"/home/ubuntu/project/v2a-mapper/train/test_inf/test_vgg/out_videos/\")\n"
   ]
  },
  {
   "cell_type": "code",
   "execution_count": null,
   "id": "b4b4e50f",
   "metadata": {},
   "outputs": [
    {
     "data": {
      "text/plain": [
       "'/home/ubuntu/project/v2a-mapper/train/scripts/videos.tar.gz'"
      ]
     },
     "execution_count": 8,
     "metadata": {},
     "output_type": "execute_result"
    }
   ],
   "source": [
    "shutil.make_archive(\"videos\", \"gztar\", root_dir=\"/home/ubuntu/project/v2a-mapper/train/test_inf/test_vgg/out_videos/\")"
   ]
  },
  {
   "cell_type": "code",
   "execution_count": null,
   "id": "8565543d",
   "metadata": {},
   "outputs": [],
   "source": []
  }
 ],
 "metadata": {
  "kernelspec": {
   "display_name": "mp",
   "language": "python",
   "name": "python3"
  },
  "language_info": {
   "codemirror_mode": {
    "name": "ipython",
    "version": 3
   },
   "file_extension": ".py",
   "mimetype": "text/x-python",
   "name": "python",
   "nbconvert_exporter": "python",
   "pygments_lexer": "ipython3",
   "version": "3.11.11"
  }
 },
 "nbformat": 4,
 "nbformat_minor": 5
}
