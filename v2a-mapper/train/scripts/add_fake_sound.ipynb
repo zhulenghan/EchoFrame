{
 "cells": [
  {
   "cell_type": "code",
   "execution_count": 1,
   "id": "2f639e58",
   "metadata": {},
   "outputs": [],
   "source": [
    "from moviepy import VideoFileClip, TextClip, CompositeVideoClip,AudioFileClip\n",
    "import shutil\n",
    "from pathlib import Path\n",
    "from tqdm import tqdm, trange\n",
    "import os"
   ]
  },
  {
   "cell_type": "code",
   "execution_count": 2,
   "id": "f564772e",
   "metadata": {},
   "outputs": [],
   "source": [
    "video_root_path = \"/home/ubuntu/project/v2a-mapper/train/test_inf/test_ag/videos/\"\n",
    "audio_path = \"/home/ubuntu/project/v2a-mapper/train/test_inf/test_ag/10s_fake_audio/fake.wav\""
   ]
  },
  {
   "cell_type": "code",
   "execution_count": 3,
   "id": "71666603",
   "metadata": {},
   "outputs": [],
   "source": [
    "video_files = sorted(os.listdir(video_root_path))\n",
    "\n",
    "video_files\n",
    "\n",
    "video_dirs = sorted(os.listdir(video_root_path))\n",
    "video_dirs = [os.path.join(video_root_path, video_dir) for video_dir in video_dirs]"
   ]
  },
  {
   "cell_type": "code",
   "execution_count": 4,
   "id": "a5638d87",
   "metadata": {},
   "outputs": [],
   "source": [
    "def add_fake_sound(target_video_path, audio_path, output_path):\n",
    "    \n",
    "    video_path = target_video_path\n",
    "    video_ids = video_path.split(\"/\")[-1].split(\".\")[0]\n",
    "\n",
    "    output_path = f\"{output_path}{video_ids}.mp4\"\n",
    "\n",
    "    # 加载视频和音频\n",
    "    video = VideoFileClip(video_path)\n",
    "    new_audio = AudioFileClip(audio_path)\n",
    "\n",
    "    # # 将视频的音轨替换为新的音频\n",
    "    video.audio = new_audio\n",
    "\n",
    "    video.write_videofile(\n",
    "        output_path,\n",
    "        codec=\"libx264\",\n",
    "        audio_codec=\"aac\",\n",
    "        fps=video.fps\n",
    "    )\n"
   ]
  },
  {
   "cell_type": "code",
   "execution_count": 5,
   "id": "78eb9fb2",
   "metadata": {},
   "outputs": [
    {
     "name": "stdout",
     "output_type": "stream",
     "text": [
      "{'video_found': True, 'audio_found': False, 'metadata': {'major_brand': 'isom', 'minor_version': '512', 'compatible_brands': 'isomiso2avc1mp41', 'encoder': 'Lavf60.16.100'}, 'inputs': [{'streams': [{'input_number': 0, 'stream_number': 0, 'stream_type': 'video', 'language': None, 'default': True, 'size': [854, 480], 'bitrate': 7569, 'fps': 30.0, 'codec_name': 'h264', 'profile': '(High)', 'metadata': {'Metadata': '', 'handler_name': 'VideoHandler', 'vendor_id': '[0][0][0][0]'}}], 'input_number': 0}], 'duration': 10.0, 'bitrate': 7584, 'start': 0.0, 'default_video_input_number': 0, 'default_video_stream_number': 0, 'video_codec_name': 'h264', 'video_profile': '(High)', 'video_size': [854, 480], 'video_bitrate': 7569, 'video_fps': 30.0, 'video_duration': 10.0, 'video_n_frames': 300}\n",
      "/home/ubuntu/miniconda3/envs/mp/lib/python3.11/site-packages/imageio_ffmpeg/binaries/ffmpeg-linux-x86_64-v7.0.2 -i /home/ubuntu/project/v2a-mapper/train/test_inf/test_ag/videos/01jrxxj2c9fa59dw655kktte42.mp4 -loglevel error -f image2pipe -vf scale=854:480 -sws_flags bicubic -pix_fmt rgb24 -vcodec rawvideo -\n",
      "MoviePy - Building video /home/ubuntu/project/v2a-mapper/train/test_inf/test_ag/videos_withsound/01jrxxj2c9fa59dw655kktte42.mp4.\n",
      "MoviePy - Writing audio in 01jrxxj2c9fa59dw655kktte42TEMP_MPY_wvf_snd.mp4\n"
     ]
    },
    {
     "name": "stderr",
     "output_type": "stream",
     "text": [
      "                                                                   \r"
     ]
    },
    {
     "name": "stdout",
     "output_type": "stream",
     "text": [
      "MoviePy - Done.\n",
      "MoviePy - Writing video /home/ubuntu/project/v2a-mapper/train/test_inf/test_ag/videos_withsound/01jrxxj2c9fa59dw655kktte42.mp4\n",
      "\n"
     ]
    },
    {
     "name": "stderr",
     "output_type": "stream",
     "text": [
      "                                                                         \r"
     ]
    },
    {
     "name": "stdout",
     "output_type": "stream",
     "text": [
      "MoviePy - Done !\n",
      "MoviePy - video ready /home/ubuntu/project/v2a-mapper/train/test_inf/test_ag/videos_withsound/01jrxxj2c9fa59dw655kktte42.mp4\n",
      "add sound to 01jrxxj2c9fa59dw655kktte42.mp4 done.\n",
      "{'video_found': True, 'audio_found': False, 'metadata': {'major_brand': 'isom', 'minor_version': '512', 'compatible_brands': 'isomiso2avc1mp41', 'encoder': 'Lavf60.16.100'}, 'inputs': [{'streams': [{'input_number': 0, 'stream_number': 0, 'stream_type': 'video', 'language': None, 'default': True, 'size': [854, 480], 'bitrate': 11088, 'fps': 30.0, 'codec_name': 'h264', 'profile': '(High)', 'metadata': {'Metadata': '', 'handler_name': 'VideoHandler', 'vendor_id': '[0][0][0][0]'}}], 'input_number': 0}], 'duration': 10.0, 'bitrate': 11103, 'start': 0.0, 'default_video_input_number': 0, 'default_video_stream_number': 0, 'video_codec_name': 'h264', 'video_profile': '(High)', 'video_size': [854, 480], 'video_bitrate': 11088, 'video_fps': 30.0, 'video_duration': 10.0, 'video_n_frames': 300}\n",
      "/home/ubuntu/miniconda3/envs/mp/lib/python3.11/site-packages/imageio_ffmpeg/binaries/ffmpeg-linux-x86_64-v7.0.2 -i /home/ubuntu/project/v2a-mapper/train/test_inf/test_ag/videos/20250416_0047_High-Speed City Ride_simple_compose_01jryerm6aev6t5r4zkp6nwh17.mp4 -loglevel error -f image2pipe -vf scale=854:480 -sws_flags bicubic -pix_fmt rgb24 -vcodec rawvideo -\n",
      "MoviePy - Building video /home/ubuntu/project/v2a-mapper/train/test_inf/test_ag/videos_withsound/20250416_0047_High-Speed City Ride_simple_compose_01jryerm6aev6t5r4zkp6nwh17.mp4.\n",
      "MoviePy - Writing audio in 20250416_0047_High-Speed City Ride_simple_compose_01jryerm6aev6t5r4zkp6nwh17TEMP_MPY_wvf_snd.mp4\n"
     ]
    },
    {
     "name": "stderr",
     "output_type": "stream",
     "text": [
      "                                                                    \r"
     ]
    },
    {
     "name": "stdout",
     "output_type": "stream",
     "text": [
      "MoviePy - Done.\n",
      "MoviePy - Writing video /home/ubuntu/project/v2a-mapper/train/test_inf/test_ag/videos_withsound/20250416_0047_High-Speed City Ride_simple_compose_01jryerm6aev6t5r4zkp6nwh17.mp4\n",
      "\n"
     ]
    },
    {
     "name": "stderr",
     "output_type": "stream",
     "text": [
      "                                                                         \r"
     ]
    },
    {
     "name": "stdout",
     "output_type": "stream",
     "text": [
      "MoviePy - Done !\n",
      "MoviePy - video ready /home/ubuntu/project/v2a-mapper/train/test_inf/test_ag/videos_withsound/20250416_0047_High-Speed City Ride_simple_compose_01jryerm6aev6t5r4zkp6nwh17.mp4\n",
      "add sound to 20250416_0047_High-Speed City Ride_simple_compose_01jryerm6aev6t5r4zkp6nwh17.mp4 done.\n",
      "{'video_found': True, 'audio_found': False, 'metadata': {'major_brand': 'isom', 'minor_version': '512', 'compatible_brands': 'isomiso2avc1mp41', 'encoder': 'Lavf60.16.100'}, 'inputs': [{'streams': [{'input_number': 0, 'stream_number': 0, 'stream_type': 'video', 'language': None, 'default': True, 'size': [854, 480], 'bitrate': 8283, 'fps': 30.0, 'codec_name': 'h264', 'profile': '(High)', 'metadata': {'Metadata': '', 'handler_name': 'VideoHandler', 'vendor_id': '[0][0][0][0]'}}], 'input_number': 0}], 'duration': 10.0, 'bitrate': 8298, 'start': 0.0, 'default_video_input_number': 0, 'default_video_stream_number': 0, 'video_codec_name': 'h264', 'video_profile': '(High)', 'video_size': [854, 480], 'video_bitrate': 8283, 'video_fps': 30.0, 'video_duration': 10.0, 'video_n_frames': 300}\n",
      "/home/ubuntu/miniconda3/envs/mp/lib/python3.11/site-packages/imageio_ffmpeg/binaries/ffmpeg-linux-x86_64-v7.0.2 -i /home/ubuntu/project/v2a-mapper/train/test_inf/test_ag/videos/20250416_0049_Kitten and Hummingbird Harmony_simple_compose_01jryex25zejdav08qdsvasn2d.mp4 -loglevel error -f image2pipe -vf scale=854:480 -sws_flags bicubic -pix_fmt rgb24 -vcodec rawvideo -\n",
      "MoviePy - Building video /home/ubuntu/project/v2a-mapper/train/test_inf/test_ag/videos_withsound/20250416_0049_Kitten and Hummingbird Harmony_simple_compose_01jryex25zejdav08qdsvasn2d.mp4.\n",
      "MoviePy - Writing audio in 20250416_0049_Kitten and Hummingbird Harmony_simple_compose_01jryex25zejdav08qdsvasn2dTEMP_MPY_wvf_snd.mp4\n"
     ]
    },
    {
     "name": "stderr",
     "output_type": "stream",
     "text": [
      "                                                                    \r"
     ]
    },
    {
     "name": "stdout",
     "output_type": "stream",
     "text": [
      "MoviePy - Done.\n",
      "MoviePy - Writing video /home/ubuntu/project/v2a-mapper/train/test_inf/test_ag/videos_withsound/20250416_0049_Kitten and Hummingbird Harmony_simple_compose_01jryex25zejdav08qdsvasn2d.mp4\n",
      "\n"
     ]
    },
    {
     "name": "stderr",
     "output_type": "stream",
     "text": [
      "                                                                         \r"
     ]
    },
    {
     "name": "stdout",
     "output_type": "stream",
     "text": [
      "MoviePy - Done !\n",
      "MoviePy - video ready /home/ubuntu/project/v2a-mapper/train/test_inf/test_ag/videos_withsound/20250416_0049_Kitten and Hummingbird Harmony_simple_compose_01jryex25zejdav08qdsvasn2d.mp4\n",
      "add sound to 20250416_0049_Kitten and Hummingbird Harmony_simple_compose_01jryex25zejdav08qdsvasn2d.mp4 done.\n",
      "{'video_found': True, 'audio_found': False, 'metadata': {'major_brand': 'isom', 'minor_version': '512', 'compatible_brands': 'isomiso2avc1mp41', 'encoder': 'Lavf60.16.100'}, 'inputs': [{'streams': [{'input_number': 0, 'stream_number': 0, 'stream_type': 'video', 'language': None, 'default': True, 'size': [854, 480], 'bitrate': 5533, 'fps': 30.0, 'codec_name': 'h264', 'profile': '(High)', 'metadata': {'Metadata': '', 'handler_name': 'VideoHandler', 'vendor_id': '[0][0][0][0]'}}], 'input_number': 0}], 'duration': 10.0, 'bitrate': 5548, 'start': 0.0, 'default_video_input_number': 0, 'default_video_stream_number': 0, 'video_codec_name': 'h264', 'video_profile': '(High)', 'video_size': [854, 480], 'video_bitrate': 5533, 'video_fps': 30.0, 'video_duration': 10.0, 'video_n_frames': 300}\n",
      "/home/ubuntu/miniconda3/envs/mp/lib/python3.11/site-packages/imageio_ffmpeg/binaries/ffmpeg-linux-x86_64-v7.0.2 -i /home/ubuntu/project/v2a-mapper/train/test_inf/test_ag/videos/20250416_0050_Early LA_ Cars and Oranges_simple_compose_01jryeyjaee5paebcg6q93911m.mp4 -loglevel error -f image2pipe -vf scale=854:480 -sws_flags bicubic -pix_fmt rgb24 -vcodec rawvideo -\n",
      "MoviePy - Building video /home/ubuntu/project/v2a-mapper/train/test_inf/test_ag/videos_withsound/20250416_0050_Early LA_ Cars and Oranges_simple_compose_01jryeyjaee5paebcg6q93911m.mp4.\n",
      "MoviePy - Writing audio in 20250416_0050_Early LA_ Cars and Oranges_simple_compose_01jryeyjaee5paebcg6q93911mTEMP_MPY_wvf_snd.mp4\n"
     ]
    },
    {
     "name": "stderr",
     "output_type": "stream",
     "text": [
      "                                                                    \r"
     ]
    },
    {
     "name": "stdout",
     "output_type": "stream",
     "text": [
      "MoviePy - Done.\n",
      "MoviePy - Writing video /home/ubuntu/project/v2a-mapper/train/test_inf/test_ag/videos_withsound/20250416_0050_Early LA_ Cars and Oranges_simple_compose_01jryeyjaee5paebcg6q93911m.mp4\n",
      "\n"
     ]
    },
    {
     "name": "stderr",
     "output_type": "stream",
     "text": [
      "                                                                         \r"
     ]
    },
    {
     "name": "stdout",
     "output_type": "stream",
     "text": [
      "MoviePy - Done !\n",
      "MoviePy - video ready /home/ubuntu/project/v2a-mapper/train/test_inf/test_ag/videos_withsound/20250416_0050_Early LA_ Cars and Oranges_simple_compose_01jryeyjaee5paebcg6q93911m.mp4\n",
      "add sound to 20250416_0050_Early LA_ Cars and Oranges_simple_compose_01jryeyjaee5paebcg6q93911m.mp4 done.\n",
      "{'video_found': True, 'audio_found': False, 'metadata': {'major_brand': 'isom', 'minor_version': '512', 'compatible_brands': 'isomiso2avc1mp41', 'encoder': 'Lavf60.16.100'}, 'inputs': [{'streams': [{'input_number': 0, 'stream_number': 0, 'stream_type': 'video', 'language': None, 'default': True, 'size': [854, 480], 'bitrate': 11510, 'fps': 30.0, 'codec_name': 'h264', 'profile': '(High)', 'metadata': {'Metadata': '', 'handler_name': 'VideoHandler', 'vendor_id': '[0][0][0][0]'}}], 'input_number': 0}], 'duration': 10.0, 'bitrate': 11525, 'start': 0.0, 'default_video_input_number': 0, 'default_video_stream_number': 0, 'video_codec_name': 'h264', 'video_profile': '(High)', 'video_size': [854, 480], 'video_bitrate': 11510, 'video_fps': 30.0, 'video_duration': 10.0, 'video_n_frames': 300}\n",
      "/home/ubuntu/miniconda3/envs/mp/lib/python3.11/site-packages/imageio_ffmpeg/binaries/ffmpeg-linux-x86_64-v7.0.2 -i /home/ubuntu/project/v2a-mapper/train/test_inf/test_ag/videos/20250416_0054_Polar Bears Underwater Chase_simple_compose_01jryf5xwxf85vjt0xx4s5menk.mp4 -loglevel error -f image2pipe -vf scale=854:480 -sws_flags bicubic -pix_fmt rgb24 -vcodec rawvideo -\n",
      "MoviePy - Building video /home/ubuntu/project/v2a-mapper/train/test_inf/test_ag/videos_withsound/20250416_0054_Polar Bears Underwater Chase_simple_compose_01jryf5xwxf85vjt0xx4s5menk.mp4.\n",
      "MoviePy - Writing audio in 20250416_0054_Polar Bears Underwater Chase_simple_compose_01jryf5xwxf85vjt0xx4s5menkTEMP_MPY_wvf_snd.mp4\n"
     ]
    },
    {
     "name": "stderr",
     "output_type": "stream",
     "text": [
      "                                                                    \r"
     ]
    },
    {
     "name": "stdout",
     "output_type": "stream",
     "text": [
      "MoviePy - Done.\n",
      "MoviePy - Writing video /home/ubuntu/project/v2a-mapper/train/test_inf/test_ag/videos_withsound/20250416_0054_Polar Bears Underwater Chase_simple_compose_01jryf5xwxf85vjt0xx4s5menk.mp4\n",
      "\n"
     ]
    },
    {
     "name": "stderr",
     "output_type": "stream",
     "text": [
      "                                                                         \r"
     ]
    },
    {
     "name": "stdout",
     "output_type": "stream",
     "text": [
      "MoviePy - Done !\n",
      "MoviePy - video ready /home/ubuntu/project/v2a-mapper/train/test_inf/test_ag/videos_withsound/20250416_0054_Polar Bears Underwater Chase_simple_compose_01jryf5xwxf85vjt0xx4s5menk.mp4\n",
      "add sound to 20250416_0054_Polar Bears Underwater Chase_simple_compose_01jryf5xwxf85vjt0xx4s5menk.mp4 done.\n",
      "{'video_found': True, 'audio_found': False, 'metadata': {'major_brand': 'isom', 'minor_version': '512', 'compatible_brands': 'isomiso2avc1mp41', 'encoder': 'Lavf60.16.100'}, 'inputs': [{'streams': [{'input_number': 0, 'stream_number': 0, 'stream_type': 'video', 'language': None, 'default': True, 'size': [854, 480], 'bitrate': 3136, 'fps': 30.0, 'codec_name': 'h264', 'profile': '(High)', 'metadata': {'Metadata': '', 'handler_name': 'VideoHandler', 'vendor_id': '[0][0][0][0]'}}], 'input_number': 0}], 'duration': 10.0, 'bitrate': 3151, 'start': 0.0, 'default_video_input_number': 0, 'default_video_stream_number': 0, 'video_codec_name': 'h264', 'video_profile': '(High)', 'video_size': [854, 480], 'video_bitrate': 3136, 'video_fps': 30.0, 'video_duration': 10.0, 'video_n_frames': 300}\n",
      "/home/ubuntu/miniconda3/envs/mp/lib/python3.11/site-packages/imageio_ffmpeg/binaries/ffmpeg-linux-x86_64-v7.0.2 -i /home/ubuntu/project/v2a-mapper/train/test_inf/test_ag/videos/piano.mp4 -loglevel error -f image2pipe -vf scale=854:480 -sws_flags bicubic -pix_fmt rgb24 -vcodec rawvideo -\n",
      "MoviePy - Building video /home/ubuntu/project/v2a-mapper/train/test_inf/test_ag/videos_withsound/piano.mp4.\n",
      "MoviePy - Writing audio in pianoTEMP_MPY_wvf_snd.mp4\n"
     ]
    },
    {
     "name": "stderr",
     "output_type": "stream",
     "text": [
      "                                                                    \r"
     ]
    },
    {
     "name": "stdout",
     "output_type": "stream",
     "text": [
      "MoviePy - Done.\n",
      "MoviePy - Writing video /home/ubuntu/project/v2a-mapper/train/test_inf/test_ag/videos_withsound/piano.mp4\n",
      "\n"
     ]
    },
    {
     "name": "stderr",
     "output_type": "stream",
     "text": [
      "                                                                         \r"
     ]
    },
    {
     "name": "stdout",
     "output_type": "stream",
     "text": [
      "MoviePy - Done !\n",
      "MoviePy - video ready /home/ubuntu/project/v2a-mapper/train/test_inf/test_ag/videos_withsound/piano.mp4\n",
      "add sound to piano.mp4 done.\n"
     ]
    }
   ],
   "source": [
    "for video_file in video_files:\n",
    "    video_path = os.path.join(video_root_path, video_file)\n",
    "    add_fake_sound(video_path, audio_path, \"/home/ubuntu/project/v2a-mapper/train/test_inf/test_ag/videos_withsound/\")\n",
    "    print(f\"add sound to {video_file} done.\")\n",
    "\n",
    "# add_fake_sound(\"/home/ubuntu/project/v2a-mapper/train/test_inf/test_ag/videos_withsound/01jrxxj2c9fa59dw655kktte42.mp4\", \"/home/ubuntu/project/v2a-mapper/train/test_inf/test_ag/test_outputs/01jrxxj2c9fa59dw655kktte42_gen.wav\",\n",
    "#  \"/home/ubuntu/project/v2a-mapper/train/test_inf/test_ag/merged_video/\")"
   ]
  },
  {
   "cell_type": "code",
   "execution_count": 6,
   "id": "8565543d",
   "metadata": {},
   "outputs": [
    {
     "name": "stdout",
     "output_type": "stream",
     "text": [
      "已写入 output.csv\n"
     ]
    }
   ],
   "source": [
    "# use base env\n",
    "import pandas as pd\n",
    "video_path =\"/home/ubuntu/project/v2a-mapper/train/test_inf/test_ag/videos_withsound/\"\n",
    "import os\n",
    "video_files = os.listdir(\"/home/ubuntu/project/v2a-mapper/train/test_inf/test_ag/videos_withsound/\")\n",
    "output_path = \"output.csv\"\n",
    "\n",
    "import csv\n",
    "\n",
    "\n",
    "# 写入 CSV\n",
    "with open(output_path, mode=\"w\", newline=\"\", encoding=\"utf-8\") as f:\n",
    "    writer = csv.writer(f)\n",
    "    # 如果你想要一行里分别放 string1 和 string2：\n",
    "    # writer.writerow([string1, string2])\n",
    "    for video_file in video_files:\n",
    "        # 这里是你要写入的字符串\n",
    "        string1 = video_file\n",
    "        string2 = \"-\"\n",
    "        # 写入一行\n",
    "        writer.writerow([string1, string2])\n",
    "    # 如果你想要两行，第一行是 string1，第二行是 string2，可以写两次：\n",
    "    # writer.writerow([string1])\n",
    "    # writer.writerow([string2])\n",
    "\n",
    "print(f\"已写入 {output_path}\")\n"
   ]
  },
  {
   "cell_type": "code",
   "execution_count": null,
   "id": "3d1e3ac8",
   "metadata": {},
   "outputs": [
    {
     "data": {
      "text/plain": [
       "<Popen: returncode: None args: ['conda', 'run', '-n', 'v2a-mapper', 'python'...>"
      ]
     },
     "execution_count": 7,
     "metadata": {},
     "output_type": "execute_result"
    },
    {
     "name": "stdout",
     "output_type": "stream",
     "text": [
      "Extracting latents for the infer split\n",
      "\n"
     ]
    },
    {
     "name": "stderr",
     "output_type": "stream",
     "text": [
      "DEBUG:git.cmd:Popen(['git', 'version'], cwd=/home/ubuntu/project/v2a-mapper/train/scripts, stdin=None, shell=False, universal_newlines=False)\n",
      "DEBUG:git.cmd:Popen(['git', 'version'], cwd=/home/ubuntu/project/v2a-mapper/train/scripts, stdin=None, shell=False, universal_newlines=False)\n",
      "DEBUG:wandb.docker.auth:Trying paths: ['/home/ubuntu/.docker/config.json', '/home/ubuntu/.dockercfg']\n",
      "DEBUG:wandb.docker.auth:No config file found\n",
      "DEBUG:sentry_sdk.errors:Setting up integrations (with default = False)\n",
      "DEBUG:sentry_sdk.errors:Setting SDK name to 'sentry.python'\n",
      "DEBUG:sentry_sdk.errors:[Profiling] Setting up continuous profiler in thread mode\n",
      "/home/ubuntu/miniconda3/envs/v2a-mapper/lib/python3.11/site-packages/timm/models/layers/__init__.py:48: FutureWarning: Importing from timm.models.layers is deprecated, please import via timm.layers\n",
      "  warnings.warn(f\"Importing from {__name__} is deprecated, please import via timm.layers\", FutureWarning)\n",
      "DEBUG:h5py._conv:Creating converter from 7 to 5\n",
      "DEBUG:h5py._conv:Creating converter from 5 to 7\n",
      "DEBUG:h5py._conv:Creating converter from 7 to 5\n",
      "DEBUG:h5py._conv:Creating converter from 5 to 7\n",
      "/home/ubuntu/miniconda3/envs/v2a-mapper/lib/python3.11/site-packages/huggingface_hub/file_download.py:797: FutureWarning: `resume_download` is deprecated and will be removed in version 1.0.0. Downloads always resume when possible. If you want to force a new download, use `force_download=True`.\n",
      "  warnings.warn(\n",
      "DEBUG:urllib3.connectionpool:Starting new HTTPS connection (1): huggingface.co:443\n",
      "DEBUG:urllib3.connectionpool:https://huggingface.co:443 \"HEAD /bert-base-uncased/resolve/main/vocab.txt HTTP/1.1\" 200 0\n",
      "DEBUG:urllib3.connectionpool:https://huggingface.co:443 \"HEAD /roberta-base/resolve/main/vocab.json HTTP/1.1\" 200 0\n",
      "DEBUG:urllib3.connectionpool:https://huggingface.co:443 \"HEAD /facebook/bart-base/resolve/main/vocab.json HTTP/1.1\" 200 0\n",
      "INFO:root:Loading HTSAT-tiny model config.\n",
      "/home/ubuntu/miniconda3/envs/v2a-mapper/lib/python3.11/site-packages/torchlibrosa/stft.py:193: FutureWarning: Pass size=1024 as keyword args. From version 0.10 passing these as positional arguments will result in an error\n",
      "  fft_window = librosa.util.pad_center(fft_window, n_fft)\n",
      "/home/ubuntu/miniconda3/envs/v2a-mapper/lib/python3.11/site-packages/torch/functional.py:539: UserWarning: torch.meshgrid: in an upcoming release, it will be required to pass the indexing argument. (Triggered internally at /pytorch/aten/src/ATen/native/TensorShape.cpp:3637.)\n",
      "  return _VF.meshgrid(tensors, **kwargs)  # type: ignore[attr-defined]\n",
      "Some weights of the model checkpoint at roberta-base were not used when initializing RobertaModel: ['lm_head.layer_norm.bias', 'lm_head.dense.bias', 'lm_head.layer_norm.weight', 'lm_head.dense.weight', 'lm_head.bias']\n",
      "- This IS expected if you are initializing RobertaModel from the checkpoint of a model trained on another task or with another architecture (e.g. initializing a BertForSequenceClassification model from a BertForPreTraining model).\n",
      "- This IS NOT expected if you are initializing RobertaModel from the checkpoint of a model that you expect to be exactly identical (initializing a BertForSequenceClassification model from a BertForSequenceClassification model).\n",
      "Some weights of RobertaModel were not initialized from the model checkpoint at roberta-base and are newly initialized: ['roberta.pooler.dense.weight', 'roberta.pooler.dense.bias']\n",
      "You should probably TRAIN this model on a down-stream task to be able to use it for predictions and inference.\n",
      "INFO:root:Loading pretrained HTSAT-tiny-roberta weights (/home/ubuntu/project/v2a-mapper/pretrain/clap_htsat_tiny.pt).\n",
      "INFO:root:Initialized: local_rank=0, world_size=0\n",
      "INFO:root:Loaded hf-hub:laion/CLIP-ViT-B-32-laion2B-s34B-b79K model config.\n",
      "INFO:root:Loading pretrained hf-hub:laion/CLIP-ViT-B-32-laion2B-s34B-b79K weights (/home/ubuntu/.cache/huggingface/hub/models--laion--CLIP-ViT-B-32-laion2B-s34B-b79K/snapshots/1a25a446712ba5ee05982a381eed697ef9b435cf/open_clip_model.safetensors).\n",
      "INFO:root:6 videos found in /home/ubuntu/project/v2a-mapper/train/test_inf/test_ag/videos_withsound/\n",
      "INFO:root:6 videos found in /home/ubuntu/project/v2a-mapper/train/scripts/output.csv\n",
      "INFO:root:0 videos missing in /home/ubuntu/project/v2a-mapper/train/test_inf/test_ag/videos_withsound/\n",
      "INFO:root:Number of samples: 6\n",
      "INFO:root:Number of batches: 6\n",
      "\n",
      "  0%|          | 0/6 [00:00<?, ?it/s]/home/ubuntu/miniconda3/envs/v2a-mapper/lib/python3.11/site-packages/torchaudio/transforms/_transforms.py:580: UserWarning: Argument 'onesided' has been deprecated and has no influence on the behavior of this module.\n",
      "  warnings.warn(\n",
      "\n",
      " 17%|█▋        | 1/6 [00:03<00:16,  3.37s/it]\n",
      " 50%|█████     | 3/6 [00:03<00:02,  1.08it/s]\n",
      " 83%|████████▎ | 5/6 [00:03<00:00,  2.04it/s]\n",
      "100%|██████████| 6/6 [00:03<00:00,  1.55it/s]\n",
      "[rank0]:[W417 04:06:26.243069071 ProcessGroupNCCL.cpp:4561] [PG ID 0 PG GUID 0 Rank 0]  using GPU 0 to perform barrier as devices used by this process are currently unknown. This can potentially cause a hang if this rank to GPU mapping is incorrect. Specify device_ids in barrier() to force use of a particular device, or call init_process_group() with a device_id.\n",
      "\n"
     ]
    }
   ],
   "source": [
    "import subprocess\n",
    "\n",
    "# 第一个流程传入参数\n",
    "subprocess.Popen([\n",
    "    \"conda\", \"run\", \"-n\", \"v2a-mapper\", \"python\", \"/home/ubuntu/project/v2a-mapper/extraction/extract_video_infer_latents.py\"\n",
    "])"
   ]
  },
  {
   "cell_type": "code",
   "execution_count": 9,
   "id": "77268978",
   "metadata": {},
   "outputs": [],
   "source": [
    "def add_fake_sound(target_video_path, audio_path, output_path):\n",
    "    \n",
    "    video_path = target_video_path\n",
    "    video_ids = video_path.split(\"/\")[-1].split(\".\")[0]\n",
    "\n",
    "    output_path = f\"{output_path}{video_ids}.mp4\"\n",
    "\n",
    "    # 加载视频和音频\n",
    "    video = VideoFileClip(video_path)\n",
    "    new_audio = AudioFileClip(audio_path)\n",
    "\n",
    "    # # 将视频的音轨替换为新的音频\n",
    "    video.audio = new_audio\n",
    "\n",
    "    video.write_videofile(\n",
    "        output_path,\n",
    "        codec=\"libx264\",\n",
    "        audio_codec=\"aac\",\n",
    "        fps=video.fps\n",
    "    )\n"
   ]
  },
  {
   "cell_type": "code",
   "execution_count": 10,
   "id": "9f136cd4",
   "metadata": {},
   "outputs": [
    {
     "name": "stderr",
     "output_type": "stream",
     "text": [
      "  0%|          | 0/6 [00:00<?, ?it/s]\n"
     ]
    },
    {
     "name": "stdout",
     "output_type": "stream",
     "text": [
      "{'video_found': True, 'audio_found': True, 'metadata': {'major_brand': 'isom', 'minor_version': '512', 'compatible_brands': 'isomiso2avc1mp41', 'encoder': 'Lavf61.1.100'}, 'inputs': [{'streams': [{'input_number': 0, 'stream_number': 0, 'stream_type': 'video', 'language': None, 'default': True, 'size': [854, 480], 'bitrate': 1632, 'fps': 30.0, 'codec_name': 'h264', 'profile': '(High)', 'metadata': {'Metadata': '', 'handler_name': 'VideoHandler', 'vendor_id': '[0][0][0][0]', 'encoder': 'Lavc61.3.100 libx264'}}, {'input_number': 0, 'stream_number': 1, 'stream_type': 'audio', 'language': None, 'default': True, 'fps': 44100, 'bitrate': 127, 'metadata': {'Metadata': '', 'handler_name': 'SoundHandler', 'vendor_id': '[0][0][0][0]'}}], 'input_number': 0}], 'duration': 10.24, 'bitrate': 1731, 'start': 0.0, 'default_video_input_number': 0, 'default_video_stream_number': 0, 'video_codec_name': 'h264', 'video_profile': '(High)', 'video_size': [854, 480], 'video_bitrate': 1632, 'video_fps': 30.0, 'default_audio_input_number': 0, 'default_audio_stream_number': 1, 'audio_fps': 44100, 'audio_bitrate': 127, 'video_duration': 10.24, 'video_n_frames': 307}\n",
      "/home/ubuntu/miniconda3/envs/mp/lib/python3.11/site-packages/imageio_ffmpeg/binaries/ffmpeg-linux-x86_64-v7.0.2 -i /home/ubuntu/project/v2a-mapper/train/test_inf/test_ag/videos_withsound/01jrxxj2c9fa59dw655kktte42.mp4 -loglevel error -f image2pipe -vf scale=854:480 -sws_flags bicubic -pix_fmt rgb24 -vcodec rawvideo -\n"
     ]
    },
    {
     "ename": "KeyError",
     "evalue": "'duration'",
     "output_type": "error",
     "traceback": [
      "\u001b[31m---------------------------------------------------------------------------\u001b[39m",
      "\u001b[31mKeyError\u001b[39m                                  Traceback (most recent call last)",
      "\u001b[36mCell\u001b[39m\u001b[36m \u001b[39m\u001b[32mIn[10]\u001b[39m\u001b[32m, line 14\u001b[39m\n\u001b[32m     12\u001b[39m audio_path = os.path.join(audio_root, audio_names[i])\n\u001b[32m     13\u001b[39m output_path = \u001b[33m\"\u001b[39m\u001b[33m/home/ubuntu/project/v2a-mapper/train/test_inf/test_ag/merged_video/\u001b[39m\u001b[33m\"\u001b[39m\n\u001b[32m---> \u001b[39m\u001b[32m14\u001b[39m \u001b[43madd_fake_sound\u001b[49m\u001b[43m(\u001b[49m\u001b[43mvideo_path\u001b[49m\u001b[43m,\u001b[49m\u001b[43m \u001b[49m\u001b[43maudio_path\u001b[49m\u001b[43m,\u001b[49m\u001b[43m \u001b[49m\u001b[43moutput_path\u001b[49m\u001b[43m)\u001b[49m\n",
      "\u001b[36mCell\u001b[39m\u001b[36m \u001b[39m\u001b[32mIn[9]\u001b[39m\u001b[32m, line 10\u001b[39m, in \u001b[36madd_fake_sound\u001b[39m\u001b[34m(target_video_path, audio_path, output_path)\u001b[39m\n\u001b[32m      8\u001b[39m \u001b[38;5;66;03m# 加载视频和音频\u001b[39;00m\n\u001b[32m      9\u001b[39m video = VideoFileClip(video_path)\n\u001b[32m---> \u001b[39m\u001b[32m10\u001b[39m new_audio = \u001b[43mAudioFileClip\u001b[49m\u001b[43m(\u001b[49m\u001b[43maudio_path\u001b[49m\u001b[43m)\u001b[49m\n\u001b[32m     12\u001b[39m \u001b[38;5;66;03m# # 将视频的音轨替换为新的音频\u001b[39;00m\n\u001b[32m     13\u001b[39m video.audio = new_audio\n",
      "\u001b[36mFile \u001b[39m\u001b[32m~/miniconda3/envs/mp/lib/python3.11/site-packages/decorator.py:235\u001b[39m, in \u001b[36mdecorate.<locals>.fun\u001b[39m\u001b[34m(*args, **kw)\u001b[39m\n\u001b[32m    233\u001b[39m \u001b[38;5;28;01mif\u001b[39;00m \u001b[38;5;129;01mnot\u001b[39;00m kwsyntax:\n\u001b[32m    234\u001b[39m     args, kw = fix(args, kw, sig)\n\u001b[32m--> \u001b[39m\u001b[32m235\u001b[39m \u001b[38;5;28;01mreturn\u001b[39;00m \u001b[43mcaller\u001b[49m\u001b[43m(\u001b[49m\u001b[43mfunc\u001b[49m\u001b[43m,\u001b[49m\u001b[43m \u001b[49m\u001b[43m*\u001b[49m\u001b[43m(\u001b[49m\u001b[43mextras\u001b[49m\u001b[43m \u001b[49m\u001b[43m+\u001b[49m\u001b[43m \u001b[49m\u001b[43margs\u001b[49m\u001b[43m)\u001b[49m\u001b[43m,\u001b[49m\u001b[43m \u001b[49m\u001b[43m*\u001b[49m\u001b[43m*\u001b[49m\u001b[43mkw\u001b[49m\u001b[43m)\u001b[49m\n",
      "\u001b[36mFile \u001b[39m\u001b[32m~/miniconda3/envs/mp/lib/python3.11/site-packages/moviepy/decorators.py:94\u001b[39m, in \u001b[36mpreprocess_args.<locals>.wrapper\u001b[39m\u001b[34m(func, *args, **kwargs)\u001b[39m\n\u001b[32m     86\u001b[39m new_args = [\n\u001b[32m     87\u001b[39m     fun(arg) \u001b[38;5;28;01mif\u001b[39;00m (name \u001b[38;5;129;01min\u001b[39;00m varnames) \u001b[38;5;129;01mand\u001b[39;00m (arg \u001b[38;5;129;01mis\u001b[39;00m \u001b[38;5;129;01mnot\u001b[39;00m \u001b[38;5;28;01mNone\u001b[39;00m) \u001b[38;5;28;01melse\u001b[39;00m arg\n\u001b[32m     88\u001b[39m     \u001b[38;5;28;01mfor\u001b[39;00m (arg, name) \u001b[38;5;129;01min\u001b[39;00m \u001b[38;5;28mzip\u001b[39m(args, names)\n\u001b[32m     89\u001b[39m ]\n\u001b[32m     90\u001b[39m new_kwargs = {\n\u001b[32m     91\u001b[39m     kwarg: fun(value) \u001b[38;5;28;01mif\u001b[39;00m kwarg \u001b[38;5;129;01min\u001b[39;00m varnames \u001b[38;5;28;01melse\u001b[39;00m value\n\u001b[32m     92\u001b[39m     \u001b[38;5;28;01mfor\u001b[39;00m (kwarg, value) \u001b[38;5;129;01min\u001b[39;00m kwargs.items()\n\u001b[32m     93\u001b[39m }\n\u001b[32m---> \u001b[39m\u001b[32m94\u001b[39m \u001b[38;5;28;01mreturn\u001b[39;00m \u001b[43mfunc\u001b[49m\u001b[43m(\u001b[49m\u001b[43m*\u001b[49m\u001b[43mnew_args\u001b[49m\u001b[43m,\u001b[49m\u001b[43m \u001b[49m\u001b[43m*\u001b[49m\u001b[43m*\u001b[49m\u001b[43mnew_kwargs\u001b[49m\u001b[43m)\u001b[49m\n",
      "\u001b[36mFile \u001b[39m\u001b[32m~/miniconda3/envs/mp/lib/python3.11/site-packages/moviepy/audio/io/AudioFileClip.py:65\u001b[39m, in \u001b[36mAudioFileClip.__init__\u001b[39m\u001b[34m(self, filename, decode_file, buffersize, nbytes, fps)\u001b[39m\n\u001b[32m     62\u001b[39m AudioClip.\u001b[34m__init__\u001b[39m(\u001b[38;5;28mself\u001b[39m)\n\u001b[32m     64\u001b[39m \u001b[38;5;28mself\u001b[39m.filename = filename\n\u001b[32m---> \u001b[39m\u001b[32m65\u001b[39m \u001b[38;5;28mself\u001b[39m.reader = \u001b[43mFFMPEG_AudioReader\u001b[49m\u001b[43m(\u001b[49m\n\u001b[32m     66\u001b[39m \u001b[43m    \u001b[49m\u001b[43mfilename\u001b[49m\u001b[43m,\u001b[49m\n\u001b[32m     67\u001b[39m \u001b[43m    \u001b[49m\u001b[43mdecode_file\u001b[49m\u001b[43m=\u001b[49m\u001b[43mdecode_file\u001b[49m\u001b[43m,\u001b[49m\n\u001b[32m     68\u001b[39m \u001b[43m    \u001b[49m\u001b[43mfps\u001b[49m\u001b[43m=\u001b[49m\u001b[43mfps\u001b[49m\u001b[43m,\u001b[49m\n\u001b[32m     69\u001b[39m \u001b[43m    \u001b[49m\u001b[43mnbytes\u001b[49m\u001b[43m=\u001b[49m\u001b[43mnbytes\u001b[49m\u001b[43m,\u001b[49m\n\u001b[32m     70\u001b[39m \u001b[43m    \u001b[49m\u001b[43mbuffersize\u001b[49m\u001b[43m=\u001b[49m\u001b[43mbuffersize\u001b[49m\u001b[43m,\u001b[49m\n\u001b[32m     71\u001b[39m \u001b[43m\u001b[49m\u001b[43m)\u001b[49m\n\u001b[32m     72\u001b[39m \u001b[38;5;28mself\u001b[39m.fps = fps\n\u001b[32m     73\u001b[39m \u001b[38;5;28mself\u001b[39m.duration = \u001b[38;5;28mself\u001b[39m.reader.duration\n",
      "\u001b[36mFile \u001b[39m\u001b[32m~/miniconda3/envs/mp/lib/python3.11/site-packages/moviepy/audio/io/readers.py:61\u001b[39m, in \u001b[36mFFMPEG_AudioReader.__init__\u001b[39m\u001b[34m(self, filename, buffersize, decode_file, print_infos, fps, nbytes, nchannels)\u001b[39m\n\u001b[32m     59\u001b[39m \u001b[38;5;28mself\u001b[39m.nchannels = nchannels\n\u001b[32m     60\u001b[39m infos = ffmpeg_parse_infos(filename, decode_file=decode_file)\n\u001b[32m---> \u001b[39m\u001b[32m61\u001b[39m \u001b[38;5;28mself\u001b[39m.duration = \u001b[43minfos\u001b[49m\u001b[43m[\u001b[49m\u001b[33;43m\"\u001b[39;49m\u001b[33;43mduration\u001b[39;49m\u001b[33;43m\"\u001b[39;49m\u001b[43m]\u001b[49m\n\u001b[32m     62\u001b[39m \u001b[38;5;28mself\u001b[39m.bitrate = infos[\u001b[33m\"\u001b[39m\u001b[33maudio_bitrate\u001b[39m\u001b[33m\"\u001b[39m]\n\u001b[32m     63\u001b[39m \u001b[38;5;28mself\u001b[39m.infos = infos\n",
      "\u001b[31mKeyError\u001b[39m: 'duration'"
     ]
    }
   ],
   "source": [
    "video_root = \"/home/ubuntu/project/v2a-mapper/train/test_inf/test_ag/videos_withsound/\"\n",
    "audio_root = \"/home/ubuntu/project/v2a-mapper/train/test_inf/test_ag/test_outputs/\"\n",
    "\n",
    "video_names = sorted(os.listdir(video_root))\n",
    "video_names\n",
    "\n",
    "audio_names = [x[:-4] + \"_gen.wav\" for x in video_names]\n",
    "audio_names\n",
    "\n",
    "for i in trange(len(video_names)):\n",
    "    video_path = os.path.join(video_root, video_names[i])\n",
    "    audio_path = os.path.join(audio_root, audio_names[i])\n",
    "    output_path = \"/home/ubuntu/project/v2a-mapper/train/test_inf/test_ag/merged_video/\"\n",
    "    add_fake_sound(video_path, audio_path, output_path)"
   ]
  },
  {
   "cell_type": "code",
   "execution_count": null,
   "id": "6ac810a9",
   "metadata": {},
   "outputs": [],
   "source": []
  }
 ],
 "metadata": {
  "kernelspec": {
   "display_name": "mp",
   "language": "python",
   "name": "python3"
  },
  "language_info": {
   "codemirror_mode": {
    "name": "ipython",
    "version": 3
   },
   "file_extension": ".py",
   "mimetype": "text/x-python",
   "name": "python",
   "nbconvert_exporter": "python",
   "pygments_lexer": "ipython3",
   "version": "3.11.11"
  }
 },
 "nbformat": 4,
 "nbformat_minor": 5
}
