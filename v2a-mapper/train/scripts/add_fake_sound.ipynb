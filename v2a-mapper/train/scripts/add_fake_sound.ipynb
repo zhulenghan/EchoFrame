{
 "cells": [
  {
   "cell_type": "code",
   "execution_count": 1,
   "id": "2f639e58",
   "metadata": {},
   "outputs": [],
   "source": [
    "from moviepy import VideoFileClip, TextClip, CompositeVideoClip,AudioFileClip\n",
    "import shutil\n",
    "from pathlib import Path\n",
    "from tqdm import tqdm, trange\n",
    "import os"
   ]
  },
  {
   "cell_type": "code",
   "execution_count": 4,
   "id": "f564772e",
   "metadata": {},
   "outputs": [],
   "source": [
    "video_root_path = \"/home/ubuntu/project/v2a-mapper/train/test_inf/test_ag/videos/\"\n",
    "audio_path = \"/home/ubuntu/project/v2a-mapper/train/test_inf/test_ag/10s_fake_audio/fake.wav\""
   ]
  },
  {
   "cell_type": "code",
   "execution_count": 5,
   "id": "71666603",
   "metadata": {},
   "outputs": [],
   "source": [
    "video_files = sorted(os.listdir(video_root_path))\n",
    "\n",
    "video_files\n",
    "\n",
    "video_dirs = sorted(os.listdir(video_root_path))\n",
    "video_dirs = [os.path.join(video_root_path, video_dir) for video_dir in video_dirs]"
   ]
  },
  {
   "cell_type": "code",
   "execution_count": 7,
   "id": "a5638d87",
   "metadata": {},
   "outputs": [],
   "source": [
    "def add_fake_sound(target_video_path, audio_path, output_path):\n",
    "    \n",
    "    video_path = target_video_path\n",
    "    video_ids = video_path.split(\"/\")[-1].split(\".\")[0]\n",
    "\n",
    "    output_path = f\"{output_path}{video_ids}.mp4\"\n",
    "\n",
    "    # 加载视频和音频\n",
    "    video = VideoFileClip(video_path)\n",
    "    new_audio = AudioFileClip(audio_path)\n",
    "\n",
    "    # # 将视频的音轨替换为新的音频\n",
    "    video.audio = new_audio\n",
    "\n",
    "    video.write_videofile(\n",
    "        output_path,\n",
    "        codec=\"libx264\",\n",
    "        audio_codec=\"aac\",\n",
    "        fps=video.fps\n",
    "    )\n"
   ]
  },
  {
   "cell_type": "code",
   "execution_count": 9,
   "id": "a71bf5f6",
   "metadata": {},
   "outputs": [
    {
     "data": {
      "text/plain": [
       "'01jrxxj2c9fa59dw655kktte42.mp4'"
      ]
     },
     "execution_count": 9,
     "metadata": {},
     "output_type": "execute_result"
    }
   ],
   "source": [
    "video_files[0]"
   ]
  },
  {
   "cell_type": "code",
   "execution_count": 11,
   "id": "78eb9fb2",
   "metadata": {},
   "outputs": [
    {
     "name": "stdout",
     "output_type": "stream",
     "text": [
      "{'video_found': True, 'audio_found': False, 'metadata': {'major_brand': 'isom', 'minor_version': '512', 'compatible_brands': 'isomiso2avc1mp41', 'encoder': 'Lavf60.16.100'}, 'inputs': [{'streams': [{'input_number': 0, 'stream_number': 0, 'stream_type': 'video', 'language': None, 'default': True, 'size': [854, 480], 'bitrate': 7569, 'fps': 30.0, 'codec_name': 'h264', 'profile': '(High)', 'metadata': {'Metadata': '', 'handler_name': 'VideoHandler', 'vendor_id': '[0][0][0][0]'}}], 'input_number': 0}], 'duration': 10.0, 'bitrate': 7584, 'start': 0.0, 'default_video_input_number': 0, 'default_video_stream_number': 0, 'video_codec_name': 'h264', 'video_profile': '(High)', 'video_size': [854, 480], 'video_bitrate': 7569, 'video_fps': 30.0, 'video_duration': 10.0, 'video_n_frames': 300}\n",
      "/home/ubuntu/miniconda3/envs/mp/lib/python3.11/site-packages/imageio_ffmpeg/binaries/ffmpeg-linux-x86_64-v7.0.2 -i /home/ubuntu/project/v2a-mapper/train/test_inf/test_ag/videos/01jrxxj2c9fa59dw655kktte42.mp4 -loglevel error -f image2pipe -vf scale=854:480 -sws_flags bicubic -pix_fmt rgb24 -vcodec rawvideo -\n",
      "MoviePy - Building video /home/ubuntu/project/v2a-mapper/train/test_inf/test_ag/videos_withsound/01jrxxj2c9fa59dw655kktte42.mp4.\n",
      "MoviePy - Writing audio in 01jrxxj2c9fa59dw655kktte42TEMP_MPY_wvf_snd.mp4\n"
     ]
    },
    {
     "name": "stderr",
     "output_type": "stream",
     "text": [
      "                                                                    \r"
     ]
    },
    {
     "name": "stdout",
     "output_type": "stream",
     "text": [
      "MoviePy - Done.\n",
      "MoviePy - Writing video /home/ubuntu/project/v2a-mapper/train/test_inf/test_ag/videos_withsound/01jrxxj2c9fa59dw655kktte42.mp4\n",
      "\n"
     ]
    },
    {
     "name": "stderr",
     "output_type": "stream",
     "text": [
      "                                                                         \r"
     ]
    },
    {
     "name": "stdout",
     "output_type": "stream",
     "text": [
      "MoviePy - Done !\n",
      "MoviePy - video ready /home/ubuntu/project/v2a-mapper/train/test_inf/test_ag/videos_withsound/01jrxxj2c9fa59dw655kktte42.mp4\n",
      "add sound to 01jrxxj2c9fa59dw655kktte42.mp4 done.\n",
      "{'video_found': True, 'audio_found': False, 'metadata': {'major_brand': 'isom', 'minor_version': '512', 'compatible_brands': 'isomiso2avc1mp41', 'encoder': 'Lavf60.16.100'}, 'inputs': [{'streams': [{'input_number': 0, 'stream_number': 0, 'stream_type': 'video', 'language': None, 'default': True, 'size': [854, 480], 'bitrate': 3136, 'fps': 30.0, 'codec_name': 'h264', 'profile': '(High)', 'metadata': {'Metadata': '', 'handler_name': 'VideoHandler', 'vendor_id': '[0][0][0][0]'}}], 'input_number': 0}], 'duration': 10.0, 'bitrate': 3151, 'start': 0.0, 'default_video_input_number': 0, 'default_video_stream_number': 0, 'video_codec_name': 'h264', 'video_profile': '(High)', 'video_size': [854, 480], 'video_bitrate': 3136, 'video_fps': 30.0, 'video_duration': 10.0, 'video_n_frames': 300}\n",
      "/home/ubuntu/miniconda3/envs/mp/lib/python3.11/site-packages/imageio_ffmpeg/binaries/ffmpeg-linux-x86_64-v7.0.2 -i /home/ubuntu/project/v2a-mapper/train/test_inf/test_ag/videos/piano.mp4 -loglevel error -f image2pipe -vf scale=854:480 -sws_flags bicubic -pix_fmt rgb24 -vcodec rawvideo -\n",
      "MoviePy - Building video /home/ubuntu/project/v2a-mapper/train/test_inf/test_ag/videos_withsound/piano.mp4.\n",
      "MoviePy - Writing audio in pianoTEMP_MPY_wvf_snd.mp4\n"
     ]
    },
    {
     "name": "stderr",
     "output_type": "stream",
     "text": [
      "                                                                    \r"
     ]
    },
    {
     "name": "stdout",
     "output_type": "stream",
     "text": [
      "MoviePy - Done.\n",
      "MoviePy - Writing video /home/ubuntu/project/v2a-mapper/train/test_inf/test_ag/videos_withsound/piano.mp4\n",
      "\n"
     ]
    },
    {
     "name": "stderr",
     "output_type": "stream",
     "text": [
      "                                                                         \r"
     ]
    },
    {
     "name": "stdout",
     "output_type": "stream",
     "text": [
      "MoviePy - Done !\n",
      "MoviePy - video ready /home/ubuntu/project/v2a-mapper/train/test_inf/test_ag/videos_withsound/piano.mp4\n",
      "add sound to piano.mp4 done.\n"
     ]
    }
   ],
   "source": [
    "for video_file in video_files:\n",
    "    video_path = os.path.join(video_root_path, video_file)\n",
    "    add_fake_sound(video_path, audio_path, \"/home/ubuntu/project/v2a-mapper/train/test_inf/test_ag/videos_withsound/\")\n",
    "    print(f\"add sound to {video_file} done.\")\n",
    "\n",
    "# add_fake_sound(\"/home/ubuntu/project/v2a-mapper/train/test_inf/test_ag/videos_withsound/01jrxxj2c9fa59dw655kktte42.mp4\", \"/home/ubuntu/project/v2a-mapper/train/test_inf/test_ag/test_outputs/01jrxxj2c9fa59dw655kktte42_gen.wav\",\n",
    "#  \"/home/ubuntu/project/v2a-mapper/train/test_inf/test_ag/merged_video/\")"
   ]
  },
  {
   "cell_type": "code",
   "execution_count": 12,
   "id": "2573371a",
   "metadata": {},
   "outputs": [],
   "source": [
    "\n",
    "# for i in trange(len(video_dirs)):\n",
    "#     # 输入视频和音频路径\n",
    "#     video_path = video_dirs[i]\n",
    "#     audio_path = audio_path\n",
    "#     video_ids = video_path.split(\"/\")[-1].split(\".\")[0]\n",
    "\n",
    "#     output_path = f\"/home/ubuntu/project/v2a-mapper/train/test_inf/test_ag/videos_withsound/{video_ids}.mp4\"\n",
    "\n",
    "#     # 加载视频和音频\n",
    "#     video = VideoFileClip(video_path)\n",
    "#     new_audio = AudioFileClip(audio_path)\n",
    "\n",
    "#     # # 将视频的音轨替换为新的音频\n",
    "#     video.audio = new_audio\n",
    "\n",
    "\n",
    "#     video.write_videofile(\n",
    "#         output_path,\n",
    "#         codec=\"libx264\",\n",
    "#         audio_codec=\"aac\",\n",
    "#         fps=video.fps\n",
    "#     )\n"
   ]
  },
  {
   "cell_type": "code",
   "execution_count": 13,
   "id": "b4b4e50f",
   "metadata": {},
   "outputs": [],
   "source": [
    "# shutil.make_archive(\"videos\", \"gztar\", root_dir=\"/home/ubuntu/project/v2a-mapper/train/test_inf/test_vgg/out_videos/\")"
   ]
  },
  {
   "cell_type": "code",
   "execution_count": null,
   "id": "8565543d",
   "metadata": {},
   "outputs": [],
   "source": []
  }
 ],
 "metadata": {
  "kernelspec": {
   "display_name": "mp",
   "language": "python",
   "name": "python3"
  },
  "language_info": {
   "codemirror_mode": {
    "name": "ipython",
    "version": 3
   },
   "file_extension": ".py",
   "mimetype": "text/x-python",
   "name": "python",
   "nbconvert_exporter": "python",
   "pygments_lexer": "ipython3",
   "version": "3.11.11"
  }
 },
 "nbformat": 4,
 "nbformat_minor": 5
}
