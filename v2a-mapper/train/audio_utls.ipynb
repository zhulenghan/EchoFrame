{
 "cells": [
  {
   "cell_type": "code",
   "execution_count": 1,
   "id": "ca7cff7e",
   "metadata": {},
   "outputs": [],
   "source": [
    "from moviepy import VideoFileClip, TextClip, CompositeVideoClip,AudioFileClip"
   ]
  },
  {
   "cell_type": "code",
   "execution_count": 3,
   "id": "080dbb23",
   "metadata": {},
   "outputs": [],
   "source": [
    "def save_ori_audio(video_path, audio_path):\n",
    "    \"\"\"\n",
    "    Save the original audio from a video file.\n",
    "    \n",
    "    :param video_path: Path to the input video file.\n",
    "    :param audio_path: Path to save the extracted audio file.\n",
    "    \"\"\"\n",
    "    video_id = video_path.split('/')[-1].split('.')[0]\n",
    "    video = VideoFileClip(video_path)\n",
    "    audio = video.audio\n",
    "    audio.write_audiofile(audio_path + video_id + '.wav')\n",
    "    audio.close()\n",
    "    video.close()"
   ]
  },
  {
   "cell_type": "code",
   "execution_count": 4,
   "id": "aba0e5fb",
   "metadata": {},
   "outputs": [
    {
     "name": "stdout",
     "output_type": "stream",
     "text": [
      "{'video_found': True, 'audio_found': True, 'metadata': {'major_brand': 'isom', 'minor_version': '512', 'compatible_brands': 'isomiso2avc1mp41', 'encoder': 'Lavf58.12.100'}, 'inputs': [{'streams': [{'input_number': 0, 'stream_number': 0, 'stream_type': 'video', 'language': None, 'default': True, 'size': [640, 360], 'bitrate': 445, 'fps': 30.0, 'codec_name': 'h264', 'profile': '(High)', 'metadata': {'Metadata': '', 'handler_name': 'VideoHandler', 'vendor_id': '[0][0][0][0]'}}, {'input_number': 0, 'stream_number': 1, 'stream_type': 'audio', 'language': None, 'default': True, 'fps': 44100, 'bitrate': 128, 'metadata': {'Metadata': '', 'handler_name': 'SoundHandler', 'vendor_id': '[0][0][0][0]'}}], 'input_number': 0}], 'duration': 10.0, 'bitrate': 584, 'start': 0.0, 'default_video_input_number': 0, 'default_video_stream_number': 0, 'video_codec_name': 'h264', 'video_profile': '(High)', 'video_size': [640, 360], 'video_bitrate': 445, 'video_fps': 30.0, 'default_audio_input_number': 0, 'default_audio_stream_number': 1, 'audio_fps': 44100, 'audio_bitrate': 128, 'video_duration': 10.0, 'video_n_frames': 300}\n",
      "/home/ubuntu/miniconda3/envs/mp/lib/python3.11/site-packages/imageio_ffmpeg/binaries/ffmpeg-linux-x86_64-v7.0.2 -i /mnt/new_volume/vgg_sound/scratch/shared/beegfs/hchen/train_data/VGGSound_final/video/7nejPp7DJWU_000140.mp4 -loglevel error -f image2pipe -vf scale=640:360 -sws_flags bicubic -pix_fmt rgb24 -vcodec rawvideo -\n",
      "MoviePy - Writing audio in /home/ubuntu/project/v2a-mapper/train/test_inf/test_vgg/ground_truth/7nejPp7DJWU_000140.wav\n"
     ]
    },
    {
     "name": "stderr",
     "output_type": "stream",
     "text": [
      "                                                        "
     ]
    },
    {
     "name": "stdout",
     "output_type": "stream",
     "text": [
      "MoviePy - Done.\n"
     ]
    },
    {
     "name": "stderr",
     "output_type": "stream",
     "text": [
      "\r"
     ]
    }
   ],
   "source": [
    "save_ori_audio(\"/mnt/new_volume/vgg_sound/scratch/shared/beegfs/hchen/train_data/VGGSound_final/video/7nejPp7DJWU_000140.mp4\", \"/home/ubuntu/project/v2a-mapper/train/test_inf/test_vgg/ground_truth/\")"
   ]
  },
  {
   "cell_type": "code",
   "execution_count": null,
   "id": "6e28a93b",
   "metadata": {},
   "outputs": [],
   "source": [
    "7nejPp7DJWU_000140.mp4"
   ]
  },
  {
   "cell_type": "code",
   "execution_count": null,
   "id": "3cbd770f",
   "metadata": {},
   "outputs": [],
   "source": [
    "\n",
    "\n",
    "video_path = \"path/to/your/video.mp4\"\n",
    "output_audio_folder = \"path/to/output/folder\"\n",
    "output_audio_path = os.path.join(output_audio_folder, \"extracted_audio.mp3\")  # 或 .wav\n",
    "\n",
    "# 加载视频\n",
    "video_clip = VideoFileClip(video_path)\n",
    "\n",
    "# 提取音频并保存\n",
    "video_clip.audio.write_audiofile(output_audio_path)\n",
    "\n",
    "# 可选：关闭资源\n",
    "video_clip.close()"
   ]
  }
 ],
 "metadata": {
  "kernelspec": {
   "display_name": "mp",
   "language": "python",
   "name": "python3"
  },
  "language_info": {
   "codemirror_mode": {
    "name": "ipython",
    "version": 3
   },
   "file_extension": ".py",
   "mimetype": "text/x-python",
   "name": "python",
   "nbconvert_exporter": "python",
   "pygments_lexer": "ipython3",
   "version": "3.11.11"
  }
 },
 "nbformat": 4,
 "nbformat_minor": 5
}
